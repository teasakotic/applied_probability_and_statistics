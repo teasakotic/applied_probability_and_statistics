{
 "cells": [
  {
   "cell_type": "markdown",
   "metadata": {},
   "source": [
    "# PROJEKAT IZ PREDMETA \"VEROVATNOĆA I STATISTIKA\"\n",
    "\n",
    "## TEMA: ŠMINKA (proizvođači, količina, dobavljači)\n",
    "\n",
    "### Student: Teodora Šakotić 2017/270097\n",
    "### Profesor: Miloš Stanković"
   ]
  },
  {
   "cell_type": "markdown",
   "metadata": {},
   "source": [
    "##### ------------------------------------------------------------------------------------------------------------------------------------------------------------------------------------------------------------\n",
    "##### Učitatavanje podataka iz tabele \"makeup.csv\"\n",
    "\n",
    "#####  Navedena tabela sadrži sledeće kolone: serialNo, NYX, LOREAL, Quantity, ESSENCE, ANASTASIA, PROFUSION, Explore, Supplier.\n",
    "\n",
    "#####  Statistickih metode koje su obrađene u projektu: \n",
    "#####  1. Primena linearne regresije,\n",
    "#####  2. Primena višestruke regresije,\n",
    "#####  3. Primena nelinearne regresije,\n",
    "#####  4. Estimacija uslovnih verovatnoća određenih događaja,\n",
    "#####  5. Estimacija funkcije gustine raspodele pomoću histograma ,\n",
    "#####  6. Estimacija parametara raspodela pojedinačnih promenljivih (varijansa, standardna devijacija, kvantili),\n",
    "#####  7. Estimacija parametara združenih raspodela (kovarijansa i koeficijent korelacije),\n",
    "#####  8. Estimacija intervala poverenja ocena određenih parametara."
   ]
  },
  {
   "cell_type": "code",
   "execution_count": 91,
   "metadata": {},
   "outputs": [
    {
     "data": {
      "text/html": [
       "<div>\n",
       "<style scoped>\n",
       "    .dataframe tbody tr th:only-of-type {\n",
       "        vertical-align: middle;\n",
       "    }\n",
       "\n",
       "    .dataframe tbody tr th {\n",
       "        vertical-align: top;\n",
       "    }\n",
       "\n",
       "    .dataframe thead th {\n",
       "        text-align: right;\n",
       "    }\n",
       "</style>\n",
       "<table border=\"1\" class=\"dataframe\">\n",
       "  <thead>\n",
       "    <tr style=\"text-align: right;\">\n",
       "      <th></th>\n",
       "      <th>serialNo</th>\n",
       "      <th>NYX</th>\n",
       "      <th>LOREAL</th>\n",
       "      <th>Quantity</th>\n",
       "      <th>ESSENCE</th>\n",
       "      <th>ANASTASIA</th>\n",
       "      <th>PROFUSION</th>\n",
       "      <th>Explore</th>\n",
       "      <th>Supplier</th>\n",
       "    </tr>\n",
       "  </thead>\n",
       "  <tbody>\n",
       "    <tr>\n",
       "      <td>0</td>\n",
       "      <td>1</td>\n",
       "      <td>337</td>\n",
       "      <td>118</td>\n",
       "      <td>4</td>\n",
       "      <td>4.5</td>\n",
       "      <td>4.5</td>\n",
       "      <td>9.65</td>\n",
       "      <td>1</td>\n",
       "      <td>0.92</td>\n",
       "    </tr>\n",
       "    <tr>\n",
       "      <td>1</td>\n",
       "      <td>2</td>\n",
       "      <td>324</td>\n",
       "      <td>107</td>\n",
       "      <td>4</td>\n",
       "      <td>4.0</td>\n",
       "      <td>4.5</td>\n",
       "      <td>8.87</td>\n",
       "      <td>1</td>\n",
       "      <td>0.76</td>\n",
       "    </tr>\n",
       "    <tr>\n",
       "      <td>2</td>\n",
       "      <td>3</td>\n",
       "      <td>316</td>\n",
       "      <td>104</td>\n",
       "      <td>3</td>\n",
       "      <td>3.0</td>\n",
       "      <td>3.5</td>\n",
       "      <td>8.00</td>\n",
       "      <td>1</td>\n",
       "      <td>0.72</td>\n",
       "    </tr>\n",
       "    <tr>\n",
       "      <td>3</td>\n",
       "      <td>4</td>\n",
       "      <td>322</td>\n",
       "      <td>110</td>\n",
       "      <td>3</td>\n",
       "      <td>3.5</td>\n",
       "      <td>2.5</td>\n",
       "      <td>8.67</td>\n",
       "      <td>1</td>\n",
       "      <td>0.80</td>\n",
       "    </tr>\n",
       "    <tr>\n",
       "      <td>4</td>\n",
       "      <td>5</td>\n",
       "      <td>314</td>\n",
       "      <td>103</td>\n",
       "      <td>2</td>\n",
       "      <td>2.0</td>\n",
       "      <td>3.0</td>\n",
       "      <td>8.21</td>\n",
       "      <td>0</td>\n",
       "      <td>0.65</td>\n",
       "    </tr>\n",
       "  </tbody>\n",
       "</table>\n",
       "</div>"
      ],
      "text/plain": [
       "   serialNo  NYX  LOREAL  Quantity  ESSENCE  ANASTASIA  PROFUSION  Explore  \\\n",
       "0         1  337     118         4      4.5        4.5       9.65        1   \n",
       "1         2  324     107         4      4.0        4.5       8.87        1   \n",
       "2         3  316     104         3      3.0        3.5       8.00        1   \n",
       "3         4  322     110         3      3.5        2.5       8.67        1   \n",
       "4         5  314     103         2      2.0        3.0       8.21        0   \n",
       "\n",
       "   Supplier  \n",
       "0      0.92  \n",
       "1      0.76  \n",
       "2      0.72  \n",
       "3      0.80  \n",
       "4      0.65  "
      ]
     },
     "execution_count": 91,
     "metadata": {},
     "output_type": "execute_result"
    }
   ],
   "source": [
    "# učitavanje podataka iz tabele\n",
    "import pandas as pd\n",
    "import matplotlib.pyplot as plt\n",
    "import numpy as np\n",
    "\n",
    "plt.style.use('seaborn-talk')\n",
    "\n",
    "data_por = pd.read_csv(\"makeup.csv\")\n",
    "data_por.head() "
   ]
  },
  {
   "cell_type": "code",
   "execution_count": 92,
   "metadata": {},
   "outputs": [
    {
     "data": {
      "text/html": [
       "<div>\n",
       "<style scoped>\n",
       "    .dataframe tbody tr th:only-of-type {\n",
       "        vertical-align: middle;\n",
       "    }\n",
       "\n",
       "    .dataframe tbody tr th {\n",
       "        vertical-align: top;\n",
       "    }\n",
       "\n",
       "    .dataframe thead th {\n",
       "        text-align: right;\n",
       "    }\n",
       "</style>\n",
       "<table border=\"1\" class=\"dataframe\">\n",
       "  <thead>\n",
       "    <tr style=\"text-align: right;\">\n",
       "      <th></th>\n",
       "      <th>NYX</th>\n",
       "      <th>LOREAL</th>\n",
       "      <th>Quantity</th>\n",
       "      <th>Supplier</th>\n",
       "    </tr>\n",
       "  </thead>\n",
       "  <tbody>\n",
       "    <tr>\n",
       "      <td>0</td>\n",
       "      <td>337</td>\n",
       "      <td>118</td>\n",
       "      <td>4</td>\n",
       "      <td>0.92</td>\n",
       "    </tr>\n",
       "    <tr>\n",
       "      <td>1</td>\n",
       "      <td>324</td>\n",
       "      <td>107</td>\n",
       "      <td>4</td>\n",
       "      <td>0.76</td>\n",
       "    </tr>\n",
       "    <tr>\n",
       "      <td>2</td>\n",
       "      <td>316</td>\n",
       "      <td>104</td>\n",
       "      <td>3</td>\n",
       "      <td>0.72</td>\n",
       "    </tr>\n",
       "    <tr>\n",
       "      <td>3</td>\n",
       "      <td>322</td>\n",
       "      <td>110</td>\n",
       "      <td>3</td>\n",
       "      <td>0.80</td>\n",
       "    </tr>\n",
       "    <tr>\n",
       "      <td>4</td>\n",
       "      <td>314</td>\n",
       "      <td>103</td>\n",
       "      <td>2</td>\n",
       "      <td>0.65</td>\n",
       "    </tr>\n",
       "  </tbody>\n",
       "</table>\n",
       "</div>"
      ],
      "text/plain": [
       "   NYX  LOREAL  Quantity  Supplier\n",
       "0  337     118         4      0.92\n",
       "1  324     107         4      0.76\n",
       "2  316     104         3      0.72\n",
       "3  322     110         3      0.80\n",
       "4  314     103         2      0.65"
      ]
     },
     "execution_count": 92,
     "metadata": {},
     "output_type": "execute_result"
    }
   ],
   "source": [
    "atributes = ['NYX','LOREAL','Quantity', 'Supplier']\n",
    "data_por = pd.read_csv(\"makeup.csv\",usecols=atributes)\n",
    "data_por.head() "
   ]
  },
  {
   "cell_type": "code",
   "execution_count": 93,
   "metadata": {},
   "outputs": [
    {
     "data": {
      "text/plain": [
       "3    162\n",
       "2    126\n",
       "4    105\n",
       "5     73\n",
       "1     34\n",
       "Name: Quantity, dtype: int64"
      ]
     },
     "execution_count": 93,
     "metadata": {},
     "output_type": "execute_result"
    }
   ],
   "source": [
    "data_temp = data_por[\"Quantity\"].value_counts()# value_counts() funkcija: Rezultirajući objekat će biti u silaznom redosledu, tako da\n",
    "                                             # prvi element je element koji se najčešće javlja\n",
    "data_temp "
   ]
  },
  {
   "cell_type": "code",
   "execution_count": 94,
   "metadata": {},
   "outputs": [
    {
     "data": {
      "image/png": "[encoded data removed]",
      "text/plain": [
       "<Figure size 748.8x514.8 with 1 Axes>"
      ]
     },
     "metadata": {
      "needs_background": "light"
     },
     "output_type": "display_data"
    }
   ],
   "source": [
    "# Raspodela količina\n",
    "P_S = pd.DataFrame(data_temp/data_temp.sum())\n",
    "P_S.columns=[\"Verovatnoća\"]\n",
    "P_S.plot.bar()\n",
    "plt.show() "
   ]
  },
  {
   "cell_type": "code",
   "execution_count": 100,
   "metadata": {},
   "outputs": [
    {
     "name": "stdout",
     "output_type": "stream",
     "text": [
      "Visoke NYX ocene\n"
     ]
    },
    {
     "data": {
      "text/plain": [
       "197"
      ]
     },
     "execution_count": 100,
     "metadata": {},
     "output_type": "execute_result"
    }
   ],
   "source": [
    "# Visoke NYX ocene\n",
    "data_temp_NYX_high = (data_por[\"NYX\"]>320).value_counts()\n",
    "high_NYX_scores = data_temp_NYX_high[True]\n",
    "print(\"Visoke NYX ocene\")\n",
    "high_NYX_scores"
   ]
  },
  {
   "cell_type": "code",
   "execution_count": 101,
   "metadata": {},
   "outputs": [
    {
     "name": "stdout",
     "output_type": "stream",
     "text": [
      "Srednje NYX ocene\n"
     ]
    },
    {
     "data": {
      "text/plain": [
       "165"
      ]
     },
     "execution_count": 101,
     "metadata": {},
     "output_type": "execute_result"
    }
   ],
   "source": [
    "# Srednje NYX ocene\n",
    "data_temp_NYX_mid = ((data_por[\"NYX\"]>=310) & (data_por[\"NYX\"]<=320)).value_counts()\n",
    "mid_NYX_scores = data_temp_NYX_mid[True]\n",
    "print(\"Srednje NYX ocene\")\n",
    "mid_NYX_scores"
   ]
  },
  {
   "cell_type": "code",
   "execution_count": 98,
   "metadata": {},
   "outputs": [
    {
     "name": "stdout",
     "output_type": "stream",
     "text": [
      "Low NYX Scores\n"
     ]
    },
    {
     "data": {
      "text/plain": [
       "138"
      ]
     },
     "execution_count": 98,
     "metadata": {},
     "output_type": "execute_result"
    }
   ],
   "source": [
    "# Niske NYX ocene\n",
    "data_temp_NYX_low = ((data_por[\"NYX\"]<310)).value_counts()\n",
    "low_NYX_scores = data_temp_NYX_low[True]\n",
    "print(\"Niske NYX ocene\")\n",
    "low_NYX_scores"
   ]
  },
  {
   "cell_type": "code",
   "execution_count": 103,
   "metadata": {},
   "outputs": [
    {
     "name": "stdout",
     "output_type": "stream",
     "text": [
      "Visoke LOREAL ocene\n"
     ]
    },
    {
     "data": {
      "text/plain": [
       "149"
      ]
     },
     "execution_count": 103,
     "metadata": {},
     "output_type": "execute_result"
    }
   ],
   "source": [
    "# Visoke LOREAL ocene\n",
    "data_temp_LOREAL_high = (data_por[\"LOREAL\"]>110).value_counts()\n",
    "high_LOREAL_scores = data_temp_LOREAL_high[True]\n",
    "print(\"Visoke LOREAL ocene\")\n",
    "high_LOREAL_scores"
   ]
  },
  {
   "cell_type": "code",
   "execution_count": 104,
   "metadata": {},
   "outputs": [
    {
     "name": "stdout",
     "output_type": "stream",
     "text": [
      "Srednje LOREAL ocene\n"
     ]
    },
    {
     "data": {
      "text/plain": [
       "175"
      ]
     },
     "execution_count": 104,
     "metadata": {},
     "output_type": "execute_result"
    }
   ],
   "source": [
    "# Srednje LOREAL ocene\n",
    "data_temp_LOREAL_mid = ((data_por[\"LOREAL\"]>=105) & (data_por[\"LOREAL\"]<=110)).value_counts()\n",
    "mid_LOREAL_scores = data_temp_LOREAL_mid[True]\n",
    "print(\"Srednje LOREAL ocene\")\n",
    "mid_LOREAL_scores"
   ]
  },
  {
   "cell_type": "code",
   "execution_count": 105,
   "metadata": {},
   "outputs": [
    {
     "name": "stdout",
     "output_type": "stream",
     "text": [
      "Niske LOREAL ocene\n"
     ]
    },
    {
     "data": {
      "text/plain": [
       "176"
      ]
     },
     "execution_count": 105,
     "metadata": {},
     "output_type": "execute_result"
    }
   ],
   "source": [
    "# Niske LOREAL ocene\n",
    "data_temp_LOREAL_low = ((data_por[\"LOREAL\"]<105)).value_counts()\n",
    "low_LOREAL_scores = data_temp_LOREAL_low[True]\n",
    "print(\"Niske LOREAL ocene\")\n",
    "low_LOREAL_scores"
   ]
  },
  {
   "cell_type": "code",
   "execution_count": 106,
   "metadata": {},
   "outputs": [
    {
     "name": "stdout",
     "output_type": "stream",
     "text": [
      "Visoke Supplier ocene\n"
     ]
    },
    {
     "data": {
      "text/plain": [
       "142"
      ]
     },
     "execution_count": 106,
     "metadata": {},
     "output_type": "execute_result"
    }
   ],
   "source": [
    "# Visoke šanse za dobavljača\n",
    "data_temp_Supplier_high = (data_por[\"Supplier\"]>0.8).value_counts()\n",
    "high_Supplier_scores = data_temp_Supplier_high[True]\n",
    "print(\"Visoke Supplier ocene\")\n",
    "high_Supplier_scores"
   ]
  },
  {
   "cell_type": "code",
   "execution_count": 107,
   "metadata": {},
   "outputs": [
    {
     "name": "stdout",
     "output_type": "stream",
     "text": [
      "Srednje Supplier ocene\n"
     ]
    },
    {
     "data": {
      "text/plain": [
       "263"
      ]
     },
     "execution_count": 107,
     "metadata": {},
     "output_type": "execute_result"
    }
   ],
   "source": [
    "# Srednje šanse za dobavljača\n",
    "data_temp_Supplier_mid = ((data_por[\"Supplier\"]>=0.6) & (data_por[\"Supplier\"]<=0.8)).value_counts()\n",
    "mid_Supplier_scores = data_temp_Supplier_mid[True]\n",
    "print(\"Srednje Supplier ocene\")\n",
    "mid_Supplier_scores"
   ]
  },
  {
   "cell_type": "code",
   "execution_count": 108,
   "metadata": {},
   "outputs": [
    {
     "name": "stdout",
     "output_type": "stream",
     "text": [
      "Niske Supplier ocene\n"
     ]
    },
    {
     "data": {
      "text/plain": [
       "95"
      ]
     },
     "execution_count": 108,
     "metadata": {},
     "output_type": "execute_result"
    }
   ],
   "source": [
    "# Niske šanse za dobavljača\n",
    "data_temp_Supplier_low = ((data_por[\"Supplier\"]<0.6)).value_counts()\n",
    "low_Supplier_scores = data_temp_Supplier_low[True]\n",
    "print(\"Niske Supplier ocene\")\n",
    "low_Supplier_scores"
   ]
  },
  {
   "cell_type": "code",
   "execution_count": 109,
   "metadata": {},
   "outputs": [
    {
     "data": {
      "image/png": "[encoded data removed]",
      "text/plain": [
       "<Figure size 720x432 with 1 Axes>"
      ]
     },
     "metadata": {
      "needs_background": "light"
     },
     "output_type": "display_data"
    },
    {
     "data": {
      "image/png": "[encoded data removed]",
      "text/plain": [
       "<Figure size 720x432 with 1 Axes>"
      ]
     },
     "metadata": {
      "needs_background": "light"
     },
     "output_type": "display_data"
    },
    {
     "data": {
      "image/png": "[encoded data removed]",
      "text/plain": [
       "<Figure size 720x432 with 1 Axes>"
      ]
     },
     "metadata": {
      "needs_background": "light"
     },
     "output_type": "display_data"
    }
   ],
   "source": [
    "P_Scores_NYX = pd.DataFrame([low_NYX_scores, mid_NYX_scores, high_NYX_scores]/(high_NYX_scores+mid_NYX_scores+low_NYX_scores))\n",
    "P_Scores_NYX.index = [\"Niske\",\"Srednje\",\"Visoke\"]\n",
    "P_Scores_NYX.columns = [\"Verovatnoća\"]\n",
    "\n",
    "\n",
    "P_Scores_LOREAL = pd.DataFrame([low_LOREAL_scores, mid_LOREAL_scores, high_LOREAL_scores]/(high_LOREAL_scores+mid_LOREAL_scores+low_LOREAL_scores))\n",
    "P_Scores_LOREAL.index = [\"Niske\",\"Srednje\",\"Visoke\"]\n",
    "P_Scores_LOREAL.columns = [\"Verovatnoća\"]\n",
    "\n",
    "\n",
    "P_Scores_Supplier = pd.DataFrame([low_Supplier_scores, mid_Supplier_scores, high_Supplier_scores]/(high_Supplier_scores+mid_Supplier_scores+low_Supplier_scores))\n",
    "P_Scores_Supplier.index = [\"Niske\",\"Srednje\",\"Visoke\"]\n",
    "P_Scores_Supplier.columns = [\"Verovatnoća\"]\n",
    "\n",
    "\n",
    "# Crtanje bar grafika za NYX:\n",
    "P_Scores_NYX.plot.bar(figsize=(10,6),fontsize=16)\n",
    "plt.xlabel(\"Ocena\",fontsize=18)\n",
    "plt.ylabel(\"Verovatnoća\",fontsize=18)\n",
    "plt.title('NYX')\n",
    "plt.show()\n",
    "\n",
    "# Crtanje bar grafika za LOREAL:\n",
    "P_Scores_LOREAL.plot.bar(figsize=(10,6),fontsize=16)\n",
    "plt.xlabel(\"Ocena\",fontsize=18)\n",
    "plt.ylabel(\"Verovatnoća\",fontsize=18)\n",
    "plt.title('LOREAL')\n",
    "plt.show()\n",
    "\n",
    "# Crtanje bar grafika za šansu za dobavljača:\n",
    "P_Scores_Supplier.plot.bar(figsize=(10,6),fontsize=16)\n",
    "plt.xlabel(\"Ocena\",fontsize=18)\n",
    "plt.ylabel(\"Verovatnoća\",fontsize=18)\n",
    "plt.title('Supplier')\n",
    "plt.show()"
   ]
  },
  {
   "cell_type": "code",
   "execution_count": 77,
   "metadata": {},
   "outputs": [
    {
     "data": {
      "text/plain": [
       "0.62    9\n",
       "0.64    8\n",
       "0.68    7\n",
       "0.58    6\n",
       "0.67    6\n",
       "0.65    6\n",
       "0.71    6\n",
       "0.54    6\n",
       "0.57    5\n",
       "0.46    5\n",
       "0.47    5\n",
       "0.61    5\n",
       "0.59    5\n",
       "0.56    4\n",
       "0.53    4\n",
       "0.63    4\n",
       "0.48    3\n",
       "0.69    3\n",
       "0.44    3\n",
       "0.42    3\n",
       "0.52    3\n",
       "0.73    2\n",
       "0.45    2\n",
       "0.49    2\n",
       "0.34    2\n",
       "0.66    2\n",
       "0.72    2\n",
       "0.77    2\n",
       "0.60    2\n",
       "0.70    2\n",
       "0.51    2\n",
       "0.38    2\n",
       "0.36    2\n",
       "0.75    1\n",
       "0.78    1\n",
       "0.55    1\n",
       "0.79    1\n",
       "0.43    1\n",
       "0.37    1\n",
       "0.76    1\n",
       "0.50    1\n",
       "Name: Supplier, dtype: int64"
      ]
     },
     "execution_count": 77,
     "metadata": {},
     "output_type": "execute_result"
    }
   ],
   "source": [
    "data_temp = data_por.loc[data_por[\"NYX\"]<310,\"Supplier\"]\n",
    "data_temp=data_temp.value_counts()\n",
    "data_temp"
   ]
  },
  {
   "cell_type": "code",
   "execution_count": 20,
   "metadata": {},
   "outputs": [
    {
     "data": {
      "text/plain": [
       "0.71    23\n",
       "0.64    19\n",
       "0.73    18\n",
       "0.72    16\n",
       "0.79    16\n",
       "        ..\n",
       "0.34     2\n",
       "0.50     2\n",
       "0.43     1\n",
       "0.37     1\n",
       "0.39     1\n",
       "Name: Supplier, Length: 61, dtype: int64"
      ]
     },
     "execution_count": 20,
     "metadata": {},
     "output_type": "execute_result"
    }
   ],
   "source": [
    "data_temp1 = data_por[\"Supplier\"].value_counts()\n",
    "data_temp1"
   ]
  },
  {
   "cell_type": "code",
   "execution_count": 21,
   "metadata": {},
   "outputs": [
    {
     "data": {
      "text/html": [
       "<div>\n",
       "<style scoped>\n",
       "    .dataframe tbody tr th:only-of-type {\n",
       "        vertical-align: middle;\n",
       "    }\n",
       "\n",
       "    .dataframe tbody tr th {\n",
       "        vertical-align: top;\n",
       "    }\n",
       "\n",
       "    .dataframe thead th {\n",
       "        text-align: right;\n",
       "    }\n",
       "</style>\n",
       "<table border=\"1\" class=\"dataframe\">\n",
       "  <thead>\n",
       "    <tr style=\"text-align: right;\">\n",
       "      <th></th>\n",
       "      <th>Uslovna verovatnoća</th>\n",
       "    </tr>\n",
       "  </thead>\n",
       "  <tbody>\n",
       "    <tr>\n",
       "      <td>0.34</td>\n",
       "      <td>1.0</td>\n",
       "    </tr>\n",
       "    <tr>\n",
       "      <td>0.36</td>\n",
       "      <td>1.0</td>\n",
       "    </tr>\n",
       "    <tr>\n",
       "      <td>0.37</td>\n",
       "      <td>1.0</td>\n",
       "    </tr>\n",
       "    <tr>\n",
       "      <td>0.38</td>\n",
       "      <td>1.0</td>\n",
       "    </tr>\n",
       "    <tr>\n",
       "      <td>0.39</td>\n",
       "      <td>NaN</td>\n",
       "    </tr>\n",
       "  </tbody>\n",
       "</table>\n",
       "</div>"
      ],
      "text/plain": [
       "      Uslovna verovatnoća\n",
       "0.34                  1.0\n",
       "0.36                  1.0\n",
       "0.37                  1.0\n",
       "0.38                  1.0\n",
       "0.39                  NaN"
      ]
     },
     "execution_count": 21,
     "metadata": {},
     "output_type": "execute_result"
    }
   ],
   "source": [
    "#Uslovna verovatnoća niske NYX ocene sa šansom za dobavljača\n",
    "\n",
    "P_Uslovna_Verovatnoca = pd.DataFrame(data_temp/data_temp1)\n",
    "P_Uslovna_Verovatnoca.columns = [\"Uslovna verovatnoća\"]\n",
    "P_Uslovna_Verovatnoca.head()"
   ]
  },
  {
   "cell_type": "code",
   "execution_count": 79,
   "metadata": {},
   "outputs": [
    {
     "data": {
      "image/png": "[encoded data removed]",
      "text/plain": [
       "<Figure size 720x432 with 1 Axes>"
      ]
     },
     "metadata": {
      "needs_background": "light"
     },
     "output_type": "display_data"
    }
   ],
   "source": [
    "#Bar grafik uslovne verovatnoće\n",
    "\n",
    "P_Uslovna_Verovatnoca.plot.bar(figsize=(10,6),fontsize=8)\n",
    "plt.xlabel(\"NYX\",fontsize=18)\n",
    "plt.ylabel(\"Uslovna verovatnoća niske NYX ocene i šanse za dobavljača\",fontsize=18)\n",
    "plt.show()"
   ]
  },
  {
   "cell_type": "code",
   "execution_count": 80,
   "metadata": {},
   "outputs": [
    {
     "data": {
      "image/png": "[encoded data removed]",
      "text/plain": [
       "<Figure size 748.8x514.8 with 1 Axes>"
      ]
     },
     "metadata": {
      "needs_background": "light"
     },
     "output_type": "display_data"
    }
   ],
   "source": [
    "#NYX histogram\n",
    "\n",
    "import pandas as pd\n",
    "\n",
    "atributes = ['NYX']\n",
    "df = pd.read_csv(\"makeup.csv\",usecols=atributes)\n",
    "\n",
    "hist = df.hist(density=True,bins=50) \n",
    "plt.show()"
   ]
  },
  {
   "cell_type": "code",
   "execution_count": 24,
   "metadata": {},
   "outputs": [
    {
     "data": {
      "text/plain": [
       "KstestResult(statistic=0.049893582249252666, pvalue=0.1604498373533897)"
      ]
     },
     "execution_count": 24,
     "metadata": {},
     "output_type": "execute_result"
    }
   ],
   "source": [
    "#Uslov za normalnu raspodelu\n",
    "from scipy import stats\n",
    "\n",
    "stats.kstest(df['NYX'].dropna().values.T, cdf='norm', args=(df['NYX'].dropna().values.mean(), df['NYX'].dropna().values.std()))"
   ]
  },
  {
   "cell_type": "code",
   "execution_count": 73,
   "metadata": {},
   "outputs": [
    {
     "data": {
      "image/png": "[encoded data removed]",
      "text/plain": [
       "<Figure size 748.8x514.8 with 1 Axes>"
      ]
     },
     "metadata": {
      "needs_background": "light"
     },
     "output_type": "display_data"
    }
   ],
   "source": [
    "#Gausova kriva\n",
    "\n",
    "from scipy.stats import norm\n",
    "\n",
    "hist = df.hist(density=True,bins=50)\n",
    "\n",
    "step=0.3\n",
    "x = np.arange(290, 340, step)\n",
    "m=320\n",
    "sig=10\n",
    "P_norm = norm.pdf(x, m, sig)\n",
    "\n",
    "plt.plot(x, P_norm, 'r', linewidth=3.0)\n",
    "plt.show()"
   ]
  },
  {
   "cell_type": "code",
   "execution_count": 81,
   "metadata": {},
   "outputs": [
    {
     "data": {
      "image/png": "[encoded data removed]",
      "text/plain": [
       "<Figure size 748.8x514.8 with 1 Axes>"
      ]
     },
     "metadata": {
      "needs_background": "light"
     },
     "output_type": "display_data"
    }
   ],
   "source": [
    "#Mešovita kriva\n",
    "\n",
    "hist = df.hist(density=True,bins=50)\n",
    "x = np.arange(290, 340, step)\n",
    "m1=312\n",
    "sig1=4.6\n",
    "m2=325\n",
    "sig2=4.7\n",
    "\n",
    "P_norm_mix2 = np.array(0.5*norm.pdf(x, m1, sig1)+0.5*norm.pdf(x, m2, sig2))\n",
    "plt.plot(x, P_norm_mix2, 'r', linewidth=3.0)\n",
    "plt.show()"
   ]
  },
  {
   "cell_type": "code",
   "execution_count": 82,
   "metadata": {},
   "outputs": [
    {
     "data": {
      "image/png": "[encoded data removed]",
      "text/plain": [
       "<Figure size 748.8x514.8 with 1 Axes>"
      ]
     },
     "metadata": {
      "needs_background": "light"
     },
     "output_type": "display_data"
    }
   ],
   "source": [
    "#LOREAL histogram\n",
    "\n",
    "atributes = ['LOREAL']\n",
    "df = pd.read_csv(\"makeup.csv\",usecols=atributes)\n",
    "\n",
    "hist = df.hist(density=True,bins=29) \n",
    "plt.show()"
   ]
  },
  {
   "cell_type": "code",
   "execution_count": 28,
   "metadata": {},
   "outputs": [
    {
     "data": {
      "text/plain": [
       "KstestResult(statistic=0.06686675668009989, pvalue=0.021816091652705517)"
      ]
     },
     "execution_count": 28,
     "metadata": {},
     "output_type": "execute_result"
    }
   ],
   "source": [
    "# Uslov za normalnu raspodelu\n",
    "stats.kstest(df['LOREAL'].dropna().values.T, cdf='norm', args=(df['LOREAL'].dropna().values.mean(), df['LOREAL'].dropna().values.std()))"
   ]
  },
  {
   "cell_type": "code",
   "execution_count": 83,
   "metadata": {},
   "outputs": [
    {
     "data": {
      "image/png": "[encoded data removed]",
      "text/plain": [
       "<Figure size 748.8x514.8 with 1 Axes>"
      ]
     },
     "metadata": {
      "needs_background": "light"
     },
     "output_type": "display_data"
    }
   ],
   "source": [
    "# Gausova kriva\n",
    "from scipy.stats import norm\n",
    "\n",
    "hist = df.hist(density=True,bins=29)\n",
    "\n",
    "step=0.3\n",
    "x = np.arange(90, 120, step)\n",
    "m=107\n",
    "sig=5.5\n",
    "P_norm = norm.pdf(x, m, sig)\n",
    "\n",
    "plt.plot(x, P_norm, 'r', linewidth=3.0)\n",
    "plt.show()"
   ]
  },
  {
   "cell_type": "code",
   "execution_count": 84,
   "metadata": {},
   "outputs": [
    {
     "data": {
      "image/png": "[encoded data removed]",
      "text/plain": [
       "<Figure size 748.8x514.8 with 1 Axes>"
      ]
     },
     "metadata": {
      "needs_background": "light"
     },
     "output_type": "display_data"
    }
   ],
   "source": [
    "hist = df.hist(density=True,bins=29)\n",
    "x = np.arange(90, 120, step)\n",
    "m1=104.5\n",
    "sig1=3.3\n",
    "m2=110.5\n",
    "sig2=3\n",
    "\n",
    "P_norm_mix2 = np.array(0.5*norm.pdf(x, m1, sig1)+0.5*norm.pdf(x, m2, sig2))\n",
    "plt.plot(x, P_norm_mix2, 'r', linewidth=3.0)\n",
    "plt.show()"
   ]
  },
  {
   "cell_type": "code",
   "execution_count": 85,
   "metadata": {},
   "outputs": [
    {
     "data": {
      "image/png": "[encoded data removed]",
      "text/plain": [
       "<Figure size 748.8x514.8 with 1 Axes>"
      ]
     },
     "metadata": {
      "needs_background": "light"
     },
     "output_type": "display_data"
    }
   ],
   "source": [
    "atributes = ['Supplier']\n",
    "df = pd.read_csv(\"makeup.csv\",usecols=atributes)\n",
    "\n",
    "hist = df.hist(density=True,bins=20) \n",
    "plt.show()"
   ]
  },
  {
   "cell_type": "code",
   "execution_count": 32,
   "metadata": {},
   "outputs": [
    {
     "data": {
      "text/plain": [
       "KstestResult(statistic=0.045631910653061714, pvalue=0.24181167784562735)"
      ]
     },
     "execution_count": 32,
     "metadata": {},
     "output_type": "execute_result"
    }
   ],
   "source": [
    "# Uslov za normalnu raspodelu\n",
    "stats.kstest(df['Supplier'].dropna().values.T, cdf='norm', args=(df['Supplier'].dropna().values.mean(), df['Supplier'].dropna().values.std()))"
   ]
  },
  {
   "cell_type": "code",
   "execution_count": 86,
   "metadata": {},
   "outputs": [
    {
     "data": {
      "image/png": "[encoded data removed]",
      "text/plain": [
       "<Figure size 748.8x514.8 with 1 Axes>"
      ]
     },
     "metadata": {
      "needs_background": "light"
     },
     "output_type": "display_data"
    }
   ],
   "source": [
    "# Gausova kriva\n",
    "from scipy.stats import norm\n",
    "\n",
    "hist = df.hist(density=True,bins=20)\n",
    "\n",
    "step=0.01\n",
    "x = np.arange(0, 1, step)\n",
    "m=0.73\n",
    "sig=0.135\n",
    "P_norm = norm.pdf(x, m, sig)\n",
    "\n",
    "plt.plot(x, P_norm, 'r', linewidth=3.0)\n",
    "plt.show()"
   ]
  },
  {
   "cell_type": "code",
   "execution_count": 87,
   "metadata": {},
   "outputs": [
    {
     "data": {
      "image/png": "[encoded data removed]",
      "text/plain": [
       "<Figure size 748.8x514.8 with 1 Axes>"
      ]
     },
     "metadata": {
      "needs_background": "light"
     },
     "output_type": "display_data"
    }
   ],
   "source": [
    "# Mešovita kriva\n",
    "hist = df.hist(density=True,bins=20)\n",
    "x = np.arange(0, 1, step)\n",
    "m1=0.73\n",
    "sig1=0.08\n",
    "m2=0.9\n",
    "sig2=0.1\n",
    "\n",
    "P_norm_mix2 = np.array(0.5*norm.pdf(x, m1, sig1)+0.5*norm.pdf(x, m2, sig2))\n",
    "plt.plot(x, P_norm_mix2, 'r', linewidth=3.0)\n",
    "plt.show()"
   ]
  },
  {
   "cell_type": "markdown",
   "metadata": {},
   "source": [
    "### Metode: describe(), kvantili, koeficijent korelacije"
   ]
  },
  {
   "cell_type": "code",
   "execution_count": 88,
   "metadata": {},
   "outputs": [
    {
     "data": {
      "text/html": [
       "<div>\n",
       "<style scoped>\n",
       "    .dataframe tbody tr th:only-of-type {\n",
       "        vertical-align: middle;\n",
       "    }\n",
       "\n",
       "    .dataframe tbody tr th {\n",
       "        vertical-align: top;\n",
       "    }\n",
       "\n",
       "    .dataframe thead th {\n",
       "        text-align: right;\n",
       "    }\n",
       "</style>\n",
       "<table border=\"1\" class=\"dataframe\">\n",
       "  <thead>\n",
       "    <tr style=\"text-align: right;\">\n",
       "      <th></th>\n",
       "      <th>NYX</th>\n",
       "      <th>LOREAL</th>\n",
       "      <th>Quantity</th>\n",
       "      <th>Supplier</th>\n",
       "    </tr>\n",
       "  </thead>\n",
       "  <tbody>\n",
       "    <tr>\n",
       "      <td>0</td>\n",
       "      <td>337</td>\n",
       "      <td>118</td>\n",
       "      <td>4</td>\n",
       "      <td>0.92</td>\n",
       "    </tr>\n",
       "    <tr>\n",
       "      <td>1</td>\n",
       "      <td>324</td>\n",
       "      <td>107</td>\n",
       "      <td>4</td>\n",
       "      <td>0.76</td>\n",
       "    </tr>\n",
       "    <tr>\n",
       "      <td>2</td>\n",
       "      <td>316</td>\n",
       "      <td>104</td>\n",
       "      <td>3</td>\n",
       "      <td>0.72</td>\n",
       "    </tr>\n",
       "    <tr>\n",
       "      <td>3</td>\n",
       "      <td>322</td>\n",
       "      <td>110</td>\n",
       "      <td>3</td>\n",
       "      <td>0.80</td>\n",
       "    </tr>\n",
       "    <tr>\n",
       "      <td>4</td>\n",
       "      <td>314</td>\n",
       "      <td>103</td>\n",
       "      <td>2</td>\n",
       "      <td>0.65</td>\n",
       "    </tr>\n",
       "  </tbody>\n",
       "</table>\n",
       "</div>"
      ],
      "text/plain": [
       "   NYX  LOREAL  Quantity  Supplier\n",
       "0  337     118         4      0.92\n",
       "1  324     107         4      0.76\n",
       "2  316     104         3      0.72\n",
       "3  322     110         3      0.80\n",
       "4  314     103         2      0.65"
      ]
     },
     "execution_count": 88,
     "metadata": {},
     "output_type": "execute_result"
    }
   ],
   "source": [
    "import pandas as pd\n",
    "import matplotlib.pyplot as plt\n",
    "import numpy as np\n",
    "\n",
    "from scipy import stats\n",
    "\n",
    "plt.style.use('seaborn-talk')\n",
    "atributes = ['NYX','LOREAL','Quantity', 'Supplier']\n",
    "data_por = pd.read_csv(\"makeup.csv\",usecols=atributes)\n",
    "data_por.head()"
   ]
  },
  {
   "cell_type": "code",
   "execution_count": 89,
   "metadata": {},
   "outputs": [
    {
     "data": {
      "text/html": [
       "<div>\n",
       "<style scoped>\n",
       "    .dataframe tbody tr th:only-of-type {\n",
       "        vertical-align: middle;\n",
       "    }\n",
       "\n",
       "    .dataframe tbody tr th {\n",
       "        vertical-align: top;\n",
       "    }\n",
       "\n",
       "    .dataframe thead th {\n",
       "        text-align: right;\n",
       "    }\n",
       "</style>\n",
       "<table border=\"1\" class=\"dataframe\">\n",
       "  <thead>\n",
       "    <tr style=\"text-align: right;\">\n",
       "      <th></th>\n",
       "      <th>NYX</th>\n",
       "      <th>LOREAL</th>\n",
       "      <th>Quantity</th>\n",
       "      <th>Supplier</th>\n",
       "    </tr>\n",
       "  </thead>\n",
       "  <tbody>\n",
       "    <tr>\n",
       "      <td>count</td>\n",
       "      <td>500.000000</td>\n",
       "      <td>500.000000</td>\n",
       "      <td>500.000000</td>\n",
       "      <td>500.00000</td>\n",
       "    </tr>\n",
       "    <tr>\n",
       "      <td>mean</td>\n",
       "      <td>316.472000</td>\n",
       "      <td>107.192000</td>\n",
       "      <td>3.114000</td>\n",
       "      <td>0.72174</td>\n",
       "    </tr>\n",
       "    <tr>\n",
       "      <td>std</td>\n",
       "      <td>11.295148</td>\n",
       "      <td>6.081868</td>\n",
       "      <td>1.143512</td>\n",
       "      <td>0.14114</td>\n",
       "    </tr>\n",
       "    <tr>\n",
       "      <td>min</td>\n",
       "      <td>290.000000</td>\n",
       "      <td>92.000000</td>\n",
       "      <td>1.000000</td>\n",
       "      <td>0.34000</td>\n",
       "    </tr>\n",
       "    <tr>\n",
       "      <td>25%</td>\n",
       "      <td>308.000000</td>\n",
       "      <td>103.000000</td>\n",
       "      <td>2.000000</td>\n",
       "      <td>0.63000</td>\n",
       "    </tr>\n",
       "    <tr>\n",
       "      <td>50%</td>\n",
       "      <td>317.000000</td>\n",
       "      <td>107.000000</td>\n",
       "      <td>3.000000</td>\n",
       "      <td>0.72000</td>\n",
       "    </tr>\n",
       "    <tr>\n",
       "      <td>75%</td>\n",
       "      <td>325.000000</td>\n",
       "      <td>112.000000</td>\n",
       "      <td>4.000000</td>\n",
       "      <td>0.82000</td>\n",
       "    </tr>\n",
       "    <tr>\n",
       "      <td>max</td>\n",
       "      <td>340.000000</td>\n",
       "      <td>120.000000</td>\n",
       "      <td>5.000000</td>\n",
       "      <td>0.97000</td>\n",
       "    </tr>\n",
       "  </tbody>\n",
       "</table>\n",
       "</div>"
      ],
      "text/plain": [
       "              NYX      LOREAL    Quantity   Supplier\n",
       "count  500.000000  500.000000  500.000000  500.00000\n",
       "mean   316.472000  107.192000    3.114000    0.72174\n",
       "std     11.295148    6.081868    1.143512    0.14114\n",
       "min    290.000000   92.000000    1.000000    0.34000\n",
       "25%    308.000000  103.000000    2.000000    0.63000\n",
       "50%    317.000000  107.000000    3.000000    0.72000\n",
       "75%    325.000000  112.000000    4.000000    0.82000\n",
       "max    340.000000  120.000000    5.000000    0.97000"
      ]
     },
     "execution_count": 89,
     "metadata": {},
     "output_type": "execute_result"
    }
   ],
   "source": [
    "data_por.describe() # describe koristi se za pregled nekih osnovnih statističkih detalja poput count, mean, std itd."
   ]
  },
  {
   "cell_type": "code",
   "execution_count": 37,
   "metadata": {},
   "outputs": [
    {
     "data": {
      "text/plain": [
       "NYX         306.00\n",
       "LOREAL      102.00\n",
       "Quantity      2.00\n",
       "Supplier      0.61\n",
       "Name: 0.2, dtype: float64"
      ]
     },
     "execution_count": 37,
     "metadata": {},
     "output_type": "execute_result"
    }
   ],
   "source": [
    "# Kvantali su presečene tačke koje dele opseg distribucije verovatnoće u \n",
    "# neprekidne intervale sa jednakim verovatnoćama ili deljenje opažanja u uzorku na isti način.\n",
    "\n",
    "# Kvantil reda 0.2\n",
    "data_por.quantile(0.2)"
   ]
  },
  {
   "cell_type": "code",
   "execution_count": 38,
   "metadata": {},
   "outputs": [
    {
     "data": {
      "text/plain": [
       "0.827200403531722"
      ]
     },
     "execution_count": 38,
     "metadata": {},
     "output_type": "execute_result"
    }
   ],
   "source": [
    "# Koeficijent korelacije je brojčana mera neke vrste korelacije,\n",
    "# znači statistički odnos između dve promenljive.\n",
    "\n",
    "#Koeficijent korelacije NYX i LOREAL ocena\n",
    "\n",
    "data_por.cov()['NYX']['LOREAL']/(data_por.std()['NYX']*data_por.std()['LOREAL'])"
   ]
  },
  {
   "cell_type": "code",
   "execution_count": 39,
   "metadata": {},
   "outputs": [
    {
     "data": {
      "text/plain": [
       "0.8103506354632607"
      ]
     },
     "execution_count": 39,
     "metadata": {},
     "output_type": "execute_result"
    }
   ],
   "source": [
    "data_por.cov()['NYX']['Supplier']/(data_por.std()['NYX']*data_por.std()['Supplier'])"
   ]
  },
  {
   "cell_type": "code",
   "execution_count": 40,
   "metadata": {},
   "outputs": [
    {
     "data": {
      "text/plain": [
       "0.7922276143050837"
      ]
     },
     "execution_count": 40,
     "metadata": {},
     "output_type": "execute_result"
    }
   ],
   "source": [
    "data_por.cov()['LOREAL']['Supplier']/(data_por.std()['LOREAL']*data_por.std()['Supplier'])"
   ]
  },
  {
   "cell_type": "code",
   "execution_count": 41,
   "metadata": {},
   "outputs": [
    {
     "name": "stdout",
     "output_type": "stream",
     "text": [
      "Vrednost estimacije: 316.472\n"
     ]
    },
    {
     "data": {
      "text/plain": [
       "(315.4819547852474, 317.46204521475255)"
      ]
     },
     "execution_count": 41,
     "metadata": {},
     "output_type": "execute_result"
    }
   ],
   "source": [
    "alpha=0.05\n",
    "\n",
    "print(\"Vrednost estimacije: \" + str(data_por.mean()['NYX'])) #estmaciona vrednost\n",
    "\n",
    "red_kvantila=1-alpha/2\n",
    "Kvantil = stats.norm.ppf(red_kvantila)\n",
    "                  \n",
    "margin = Kvantil * (data_por.std()['NYX']/len(data_por)**0.5)\n",
    "\n",
    "interval_poverenja_MO = (data_por.mean()['NYX'] - margin, data_por.mean()['NYX'] + margin)\n",
    "interval_poverenja_MO"
   ]
  },
  {
   "cell_type": "code",
   "execution_count": 42,
   "metadata": {},
   "outputs": [
    {
     "name": "stdout",
     "output_type": "stream",
     "text": [
      "Vrednost estimacije: 107.192\n"
     ]
    },
    {
     "data": {
      "text/plain": [
       "(106.6589105907588, 107.72508940924119)"
      ]
     },
     "execution_count": 42,
     "metadata": {},
     "output_type": "execute_result"
    }
   ],
   "source": [
    "alpha=0.05\n",
    "\n",
    "print(\"Vrednost estimacije: \" + str(data_por.mean()['LOREAL'])) #estmaciona vrednost\n",
    "\n",
    "red_kvantila=1-alpha/2\n",
    "Kvantil = stats.norm.ppf(red_kvantila)\n",
    "                  \n",
    "margin = Kvantil * (data_por.std()['LOREAL']/len(data_por)**0.5)\n",
    "\n",
    "interval_poverenja_MO = (data_por.mean()['LOREAL'] - margin, data_por.mean()['LOREAL'] + margin)\n",
    "interval_poverenja_MO"
   ]
  },
  {
   "cell_type": "code",
   "execution_count": 43,
   "metadata": {},
   "outputs": [
    {
     "name": "stdout",
     "output_type": "stream",
     "text": [
      "Vrednost estimacije: 0.7217399999999996\n"
     ]
    },
    {
     "data": {
      "text/plain": [
       "(0.7093687254551472, 0.734111274544852)"
      ]
     },
     "execution_count": 43,
     "metadata": {},
     "output_type": "execute_result"
    }
   ],
   "source": [
    "alpha=0.05\n",
    "\n",
    "print(\"Vrednost estimacije: \" + str(data_por.mean()['Supplier'])) #estimaciona vrednost\n",
    "\n",
    "red_kvantila=1-alpha/2\n",
    "Kvantil = stats.norm.ppf(red_kvantila)\n",
    "                  \n",
    "margin = Kvantil * (data_por.std()['Supplier']/len(data_por)**0.5)\n",
    "\n",
    "interval_poverenja_MO = (data_por.mean()['Supplier'] - margin, data_por.mean()['Supplier'] + margin)\n",
    "interval_poverenja_MO"
   ]
  },
  {
   "cell_type": "markdown",
   "metadata": {},
   "source": [
    "### Linearna regresija"
   ]
  },
  {
   "cell_type": "code",
   "execution_count": 44,
   "metadata": {},
   "outputs": [
    {
     "name": "stdout",
     "output_type": "stream",
     "text": [
      "   serialNo  NYX  LOREAL  Quantity  ESSENCE  ANASTASIA  PROFUSION  Explore  \\\n",
      "0         1  337     118         4      4.5        4.5       9.65        1   \n",
      "1         2  324     107         4      4.0        4.5       8.87        1   \n",
      "2         3  316     104         3      3.0        3.5       8.00        1   \n",
      "3         4  322     110         3      3.5        2.5       8.67        1   \n",
      "4         5  314     103         2      2.0        3.0       8.21        0   \n",
      "\n",
      "   Supplier  \n",
      "0      0.92  \n",
      "1      0.76  \n",
      "2      0.72  \n",
      "3      0.80  \n",
      "4      0.65  \n",
      "--------------------------\n",
      "   NYX  Supplier\n",
      "0  337      0.92\n",
      "1  324      0.76\n",
      "2  316      0.72\n",
      "3  322      0.80\n",
      "4  314      0.65\n",
      "--------------------------\n"
     ]
    }
   ],
   "source": [
    "HW=pd.read_csv('makeup.csv')\n",
    "print(HW.head())\n",
    "print(\"--------------------------\")\n",
    "cols = [0,2,3,4,5, 6, 7]\n",
    "HW.drop(HW.columns[cols],axis=1,inplace=True)\n",
    "print(HW.head())\n",
    "print(\"--------------------------\")\n"
   ]
  },
  {
   "cell_type": "code",
   "execution_count": 45,
   "metadata": {},
   "outputs": [
    {
     "data": {
      "text/html": [
       "<div>\n",
       "<style scoped>\n",
       "    .dataframe tbody tr th:only-of-type {\n",
       "        vertical-align: middle;\n",
       "    }\n",
       "\n",
       "    .dataframe tbody tr th {\n",
       "        vertical-align: top;\n",
       "    }\n",
       "\n",
       "    .dataframe thead th {\n",
       "        text-align: right;\n",
       "    }\n",
       "</style>\n",
       "<table border=\"1\" class=\"dataframe\">\n",
       "  <thead>\n",
       "    <tr style=\"text-align: right;\">\n",
       "      <th></th>\n",
       "      <th>NYX</th>\n",
       "      <th>Supplier</th>\n",
       "    </tr>\n",
       "  </thead>\n",
       "  <tbody>\n",
       "    <tr>\n",
       "      <td>0</td>\n",
       "      <td>337</td>\n",
       "      <td>0.92</td>\n",
       "    </tr>\n",
       "    <tr>\n",
       "      <td>1</td>\n",
       "      <td>324</td>\n",
       "      <td>0.76</td>\n",
       "    </tr>\n",
       "    <tr>\n",
       "      <td>2</td>\n",
       "      <td>316</td>\n",
       "      <td>0.72</td>\n",
       "    </tr>\n",
       "    <tr>\n",
       "      <td>3</td>\n",
       "      <td>322</td>\n",
       "      <td>0.80</td>\n",
       "    </tr>\n",
       "    <tr>\n",
       "      <td>4</td>\n",
       "      <td>314</td>\n",
       "      <td>0.65</td>\n",
       "    </tr>\n",
       "  </tbody>\n",
       "</table>\n",
       "</div>"
      ],
      "text/plain": [
       "   NYX  Supplier\n",
       "0  337      0.92\n",
       "1  324      0.76\n",
       "2  316      0.72\n",
       "3  322      0.80\n",
       "4  314      0.65"
      ]
     },
     "execution_count": 45,
     "metadata": {},
     "output_type": "execute_result"
    }
   ],
   "source": [
    "HW.columns=['NYX','Supplier'] \n",
    "HW.head()"
   ]
  },
  {
   "cell_type": "code",
   "execution_count": 46,
   "metadata": {},
   "outputs": [
    {
     "name": "stdout",
     "output_type": "stream",
     "text": [
      "(2, 500) (500,)\n"
     ]
    },
    {
     "name": "stderr",
     "output_type": "stream",
     "text": [
      "D:\\ProgramData\\Anaconda3\\lib\\site-packages\\ipykernel_launcher.py:6: FutureWarning: `rcond` parameter will change to the default of machine precision times ``max(M, N)`` where M and N are the input matrix dimensions.\n",
      "To use the future default and silence this warning we advise to pass `rcond=None`, to keep using the old, explicitly pass `rcond=-1`.\n",
      "  \n"
     ]
    },
    {
     "data": {
      "text/plain": [
       "array([-2.48281467,  0.01012587])"
      ]
     },
     "execution_count": 46,
     "metadata": {},
     "output_type": "execute_result"
    }
   ],
   "source": [
    "A=np.array(HW['NYX'])\n",
    "A=np.array([np.ones(len(A)),A])\n",
    "y=np.array(HW['Supplier'])\n",
    "print(A.shape,y.shape)\n",
    "\n",
    "w1 = np.linalg.lstsq(A.T,y)[0]\n",
    "w1"
   ]
  },
  {
   "cell_type": "code",
   "execution_count": 47,
   "metadata": {},
   "outputs": [],
   "source": [
    "def f(x,w):\n",
    "    return w[0]+w[1]*x"
   ]
  },
  {
   "cell_type": "code",
   "execution_count": 48,
   "metadata": {},
   "outputs": [
    {
     "data": {
      "image/png": "[encoded data removed]",
      "text/plain": [
       "<Figure size 1080x360 with 1 Axes>"
      ]
     },
     "metadata": {
      "needs_background": "light"
     },
     "output_type": "display_data"
    }
   ],
   "source": [
    "ax=HW.plot(kind='scatter',s=1,x='NYX',y='Supplier',figsize=[15,5])\n",
    "x0,x1=plt.xlim()\n",
    "ax.plot([x0,x1],[f(x0,w1),f(x1,w1)],'r')\n",
    "plt.show()"
   ]
  },
  {
   "cell_type": "code",
   "execution_count": 49,
   "metadata": {},
   "outputs": [
    {
     "name": "stdout",
     "output_type": "stream",
     "text": [
      "(2, 500) (500,)\n"
     ]
    },
    {
     "name": "stderr",
     "output_type": "stream",
     "text": [
      "D:\\ProgramData\\Anaconda3\\lib\\site-packages\\ipykernel_launcher.py:6: FutureWarning: `rcond` parameter will change to the default of machine precision times ``max(M, N)`` where M and N are the input matrix dimensions.\n",
      "To use the future default and silence this warning we advise to pass `rcond=None`, to keep using the old, explicitly pass `rcond=-1`.\n",
      "  \n"
     ]
    },
    {
     "data": {
      "text/plain": [
       "array([269.6667751 ,  64.85053468])"
      ]
     },
     "execution_count": 49,
     "metadata": {},
     "output_type": "execute_result"
    }
   ],
   "source": [
    "A=np.array(HW['Supplier'])\n",
    "A=np.array([np.ones(len(A)),A])\n",
    "y=np.array(HW['NYX'])\n",
    "print(A.shape,y.shape)\n",
    "\n",
    "w1 = np.linalg.lstsq(A.T,y)[0]\n",
    "w1"
   ]
  },
  {
   "cell_type": "code",
   "execution_count": 50,
   "metadata": {},
   "outputs": [
    {
     "data": {
      "image/png": "[encoded data removed]",
      "text/plain": [
       "<Figure size 1080x360 with 1 Axes>"
      ]
     },
     "metadata": {
      "needs_background": "light"
     },
     "output_type": "display_data"
    }
   ],
   "source": [
    "ax=HW.plot(kind='scatter',s=1,x='Supplier',y='NYX',figsize=[15,5])\n",
    "x0,x1=plt.xlim()\n",
    "ax.plot([x0,x1],[f(x0,w1),f(x1,w1)],'r')\n",
    "plt.show()"
   ]
  },
  {
   "cell_type": "markdown",
   "metadata": {},
   "source": [
    "### Kvadratna regresija"
   ]
  },
  {
   "cell_type": "code",
   "execution_count": 51,
   "metadata": {},
   "outputs": [
    {
     "name": "stderr",
     "output_type": "stream",
     "text": [
      "D:\\ProgramData\\Anaconda3\\lib\\site-packages\\ipykernel_launcher.py:5: FutureWarning: `rcond` parameter will change to the default of machine precision times ``max(M, N)`` where M and N are the input matrix dimensions.\n",
      "To use the future default and silence this warning we advise to pass `rcond=None`, to keep using the old, explicitly pass `rcond=-1`.\n",
      "  \"\"\"\n"
     ]
    },
    {
     "name": "stdout",
     "output_type": "stream",
     "text": [
      "w2= [307.4192614  -47.43778562  80.05054462]\n"
     ]
    },
    {
     "data": {
      "image/png": "[encoded data removed]",
      "text/plain": [
       "<Figure size 720x576 with 1 Axes>"
      ]
     },
     "metadata": {
      "needs_background": "light"
     },
     "output_type": "display_data"
    }
   ],
   "source": [
    "A=np.array(HW['Supplier'])\n",
    "A=np.array([np.ones(len(A)),A,A**2])\n",
    "y=np.array(HW['NYX'])\n",
    "\n",
    "w2 = np.linalg.lstsq(A.T,y)[0] \n",
    "print('w2=',w2)\n",
    "def f2(x,w):\n",
    "    return w[0]+w[1]*x+w[2]*x**2\n",
    "\n",
    "ax=HW.plot(kind='scatter',s=1,x='Supplier',y='NYX',figsize=[10,8])\n",
    "x0,x1=plt.xlim()\n",
    "\n",
    "opseg=x1-x0\n",
    "X=np.arange(x0,x1,opseg/100.)\n",
    "ax.plot(X,f2(X,w2),'k')\n",
    "plt.show()"
   ]
  },
  {
   "cell_type": "markdown",
   "metadata": {},
   "source": [
    "### Metode: describe(), koeficijent korelacije, kvantil, standardna devijacija, kovarijansa"
   ]
  },
  {
   "cell_type": "code",
   "execution_count": 1,
   "metadata": {},
   "outputs": [
    {
     "data": {
      "text/html": [
       "<div>\n",
       "<style scoped>\n",
       "    .dataframe tbody tr th:only-of-type {\n",
       "        vertical-align: middle;\n",
       "    }\n",
       "\n",
       "    .dataframe tbody tr th {\n",
       "        vertical-align: top;\n",
       "    }\n",
       "\n",
       "    .dataframe thead th {\n",
       "        text-align: right;\n",
       "    }\n",
       "</style>\n",
       "<table border=\"1\" class=\"dataframe\">\n",
       "  <thead>\n",
       "    <tr style=\"text-align: right;\">\n",
       "      <th></th>\n",
       "      <th>serialNo</th>\n",
       "      <th>NYX</th>\n",
       "      <th>LOREAL</th>\n",
       "      <th>Quantity</th>\n",
       "      <th>ESSENCE</th>\n",
       "      <th>ANASTASIA</th>\n",
       "      <th>PROFUSION</th>\n",
       "      <th>Explore</th>\n",
       "      <th>Supplier</th>\n",
       "    </tr>\n",
       "  </thead>\n",
       "  <tbody>\n",
       "    <tr>\n",
       "      <td>0</td>\n",
       "      <td>1</td>\n",
       "      <td>337</td>\n",
       "      <td>118</td>\n",
       "      <td>4</td>\n",
       "      <td>4.5</td>\n",
       "      <td>4.5</td>\n",
       "      <td>9.65</td>\n",
       "      <td>1</td>\n",
       "      <td>0.92</td>\n",
       "    </tr>\n",
       "    <tr>\n",
       "      <td>1</td>\n",
       "      <td>2</td>\n",
       "      <td>324</td>\n",
       "      <td>107</td>\n",
       "      <td>4</td>\n",
       "      <td>4.0</td>\n",
       "      <td>4.5</td>\n",
       "      <td>8.87</td>\n",
       "      <td>1</td>\n",
       "      <td>0.76</td>\n",
       "    </tr>\n",
       "    <tr>\n",
       "      <td>2</td>\n",
       "      <td>3</td>\n",
       "      <td>316</td>\n",
       "      <td>104</td>\n",
       "      <td>3</td>\n",
       "      <td>3.0</td>\n",
       "      <td>3.5</td>\n",
       "      <td>8.00</td>\n",
       "      <td>1</td>\n",
       "      <td>0.72</td>\n",
       "    </tr>\n",
       "    <tr>\n",
       "      <td>3</td>\n",
       "      <td>4</td>\n",
       "      <td>322</td>\n",
       "      <td>110</td>\n",
       "      <td>3</td>\n",
       "      <td>3.5</td>\n",
       "      <td>2.5</td>\n",
       "      <td>8.67</td>\n",
       "      <td>1</td>\n",
       "      <td>0.80</td>\n",
       "    </tr>\n",
       "    <tr>\n",
       "      <td>4</td>\n",
       "      <td>5</td>\n",
       "      <td>314</td>\n",
       "      <td>103</td>\n",
       "      <td>2</td>\n",
       "      <td>2.0</td>\n",
       "      <td>3.0</td>\n",
       "      <td>8.21</td>\n",
       "      <td>0</td>\n",
       "      <td>0.65</td>\n",
       "    </tr>\n",
       "  </tbody>\n",
       "</table>\n",
       "</div>"
      ],
      "text/plain": [
       "   serialNo  NYX  LOREAL  Quantity  ESSENCE  ANASTASIA  PROFUSION  Explore  \\\n",
       "0         1  337     118         4      4.5        4.5       9.65        1   \n",
       "1         2  324     107         4      4.0        4.5       8.87        1   \n",
       "2         3  316     104         3      3.0        3.5       8.00        1   \n",
       "3         4  322     110         3      3.5        2.5       8.67        1   \n",
       "4         5  314     103         2      2.0        3.0       8.21        0   \n",
       "\n",
       "   Supplier  \n",
       "0      0.92  \n",
       "1      0.76  \n",
       "2      0.72  \n",
       "3      0.80  \n",
       "4      0.65  "
      ]
     },
     "execution_count": 1,
     "metadata": {},
     "output_type": "execute_result"
    }
   ],
   "source": [
    "import numpy as np\n",
    "import pandas as pd\n",
    "import matplotlib.pyplot as plt\n",
    "import statsmodels.formula.api as sm\n",
    "from scipy import stats\n",
    "from statsmodels.formula.api import ols\n",
    "\n",
    "df=pd.read_csv('makeup.csv')\n",
    "df.head()"
   ]
  },
  {
   "cell_type": "code",
   "execution_count": 2,
   "metadata": {},
   "outputs": [
    {
     "data": {
      "text/html": [
       "<div>\n",
       "<style scoped>\n",
       "    .dataframe tbody tr th:only-of-type {\n",
       "        vertical-align: middle;\n",
       "    }\n",
       "\n",
       "    .dataframe tbody tr th {\n",
       "        vertical-align: top;\n",
       "    }\n",
       "\n",
       "    .dataframe thead th {\n",
       "        text-align: right;\n",
       "    }\n",
       "</style>\n",
       "<table border=\"1\" class=\"dataframe\">\n",
       "  <thead>\n",
       "    <tr style=\"text-align: right;\">\n",
       "      <th></th>\n",
       "      <th>NYX</th>\n",
       "      <th>LOREAL</th>\n",
       "    </tr>\n",
       "  </thead>\n",
       "  <tbody>\n",
       "    <tr>\n",
       "      <td>0</td>\n",
       "      <td>337</td>\n",
       "      <td>118</td>\n",
       "    </tr>\n",
       "    <tr>\n",
       "      <td>1</td>\n",
       "      <td>324</td>\n",
       "      <td>107</td>\n",
       "    </tr>\n",
       "    <tr>\n",
       "      <td>2</td>\n",
       "      <td>316</td>\n",
       "      <td>104</td>\n",
       "    </tr>\n",
       "    <tr>\n",
       "      <td>3</td>\n",
       "      <td>322</td>\n",
       "      <td>110</td>\n",
       "    </tr>\n",
       "    <tr>\n",
       "      <td>4</td>\n",
       "      <td>314</td>\n",
       "      <td>103</td>\n",
       "    </tr>\n",
       "  </tbody>\n",
       "</table>\n",
       "</div>"
      ],
      "text/plain": [
       "   NYX  LOREAL\n",
       "0  337     118\n",
       "1  324     107\n",
       "2  316     104\n",
       "3  322     110\n",
       "4  314     103"
      ]
     },
     "execution_count": 2,
     "metadata": {},
     "output_type": "execute_result"
    }
   ],
   "source": [
    "plt.style.use('seaborn-talk')\n",
    "atributi = ['NYX','LOREAL']\n",
    "data_por = pd.read_csv(\"makeup.csv\",usecols=atributi)\n",
    "data_por.head()"
   ]
  },
  {
   "cell_type": "code",
   "execution_count": 3,
   "metadata": {},
   "outputs": [
    {
     "data": {
      "text/html": [
       "<div>\n",
       "<style scoped>\n",
       "    .dataframe tbody tr th:only-of-type {\n",
       "        vertical-align: middle;\n",
       "    }\n",
       "\n",
       "    .dataframe tbody tr th {\n",
       "        vertical-align: top;\n",
       "    }\n",
       "\n",
       "    .dataframe thead th {\n",
       "        text-align: right;\n",
       "    }\n",
       "</style>\n",
       "<table border=\"1\" class=\"dataframe\">\n",
       "  <thead>\n",
       "    <tr style=\"text-align: right;\">\n",
       "      <th></th>\n",
       "      <th>NYX</th>\n",
       "      <th>LOREAL</th>\n",
       "    </tr>\n",
       "  </thead>\n",
       "  <tbody>\n",
       "    <tr>\n",
       "      <td>count</td>\n",
       "      <td>500.000000</td>\n",
       "      <td>500.000000</td>\n",
       "    </tr>\n",
       "    <tr>\n",
       "      <td>mean</td>\n",
       "      <td>316.472000</td>\n",
       "      <td>107.192000</td>\n",
       "    </tr>\n",
       "    <tr>\n",
       "      <td>std</td>\n",
       "      <td>11.295148</td>\n",
       "      <td>6.081868</td>\n",
       "    </tr>\n",
       "    <tr>\n",
       "      <td>min</td>\n",
       "      <td>290.000000</td>\n",
       "      <td>92.000000</td>\n",
       "    </tr>\n",
       "    <tr>\n",
       "      <td>25%</td>\n",
       "      <td>308.000000</td>\n",
       "      <td>103.000000</td>\n",
       "    </tr>\n",
       "    <tr>\n",
       "      <td>50%</td>\n",
       "      <td>317.000000</td>\n",
       "      <td>107.000000</td>\n",
       "    </tr>\n",
       "    <tr>\n",
       "      <td>75%</td>\n",
       "      <td>325.000000</td>\n",
       "      <td>112.000000</td>\n",
       "    </tr>\n",
       "    <tr>\n",
       "      <td>max</td>\n",
       "      <td>340.000000</td>\n",
       "      <td>120.000000</td>\n",
       "    </tr>\n",
       "  </tbody>\n",
       "</table>\n",
       "</div>"
      ],
      "text/plain": [
       "              NYX      LOREAL\n",
       "count  500.000000  500.000000\n",
       "mean   316.472000  107.192000\n",
       "std     11.295148    6.081868\n",
       "min    290.000000   92.000000\n",
       "25%    308.000000  103.000000\n",
       "50%    317.000000  107.000000\n",
       "75%    325.000000  112.000000\n",
       "max    340.000000  120.000000"
      ]
     },
     "execution_count": 3,
     "metadata": {},
     "output_type": "execute_result"
    }
   ],
   "source": [
    "data_por.describe()"
   ]
  },
  {
   "cell_type": "code",
   "execution_count": 4,
   "metadata": {},
   "outputs": [
    {
     "data": {
      "text/html": [
       "<div>\n",
       "<style scoped>\n",
       "    .dataframe tbody tr th:only-of-type {\n",
       "        vertical-align: middle;\n",
       "    }\n",
       "\n",
       "    .dataframe tbody tr th {\n",
       "        vertical-align: top;\n",
       "    }\n",
       "\n",
       "    .dataframe thead th {\n",
       "        text-align: right;\n",
       "    }\n",
       "</style>\n",
       "<table border=\"1\" class=\"dataframe\">\n",
       "  <thead>\n",
       "    <tr style=\"text-align: right;\">\n",
       "      <th></th>\n",
       "      <th>NYX</th>\n",
       "      <th>LOREAL</th>\n",
       "    </tr>\n",
       "  </thead>\n",
       "  <tbody>\n",
       "    <tr>\n",
       "      <td>NYX</td>\n",
       "      <td>1.0000</td>\n",
       "      <td>0.8272</td>\n",
       "    </tr>\n",
       "    <tr>\n",
       "      <td>LOREAL</td>\n",
       "      <td>0.8272</td>\n",
       "      <td>1.0000</td>\n",
       "    </tr>\n",
       "  </tbody>\n",
       "</table>\n",
       "</div>"
      ],
      "text/plain": [
       "           NYX  LOREAL\n",
       "NYX     1.0000  0.8272\n",
       "LOREAL  0.8272  1.0000"
      ]
     },
     "execution_count": 4,
     "metadata": {},
     "output_type": "execute_result"
    }
   ],
   "source": [
    "# Koeficijent korelacije broja umetnickih dela velikih i malih dimenzija\n",
    "data_por.corr()"
   ]
  },
  {
   "cell_type": "code",
   "execution_count": 5,
   "metadata": {},
   "outputs": [
    {
     "data": {
      "text/plain": [
       "NYX       323.3\n",
       "LOREAL    110.0\n",
       "Name: 0.7, dtype: float64"
      ]
     },
     "execution_count": 5,
     "metadata": {},
     "output_type": "execute_result"
    }
   ],
   "source": [
    "# Kvantil reda 0.7\n",
    "data_por.quantile(0.7)"
   ]
  },
  {
   "cell_type": "code",
   "execution_count": 6,
   "metadata": {},
   "outputs": [
    {
     "data": {
      "text/plain": [
       "NYX       11.295148\n",
       "LOREAL     6.081868\n",
       "dtype: float64"
      ]
     },
     "execution_count": 6,
     "metadata": {},
     "output_type": "execute_result"
    }
   ],
   "source": [
    "# Standardna devijacija\n",
    "data_por.std()"
   ]
  },
  {
   "cell_type": "code",
   "execution_count": 7,
   "metadata": {},
   "outputs": [
    {
     "data": {
      "text/html": [
       "<div>\n",
       "<style scoped>\n",
       "    .dataframe tbody tr th:only-of-type {\n",
       "        vertical-align: middle;\n",
       "    }\n",
       "\n",
       "    .dataframe tbody tr th {\n",
       "        vertical-align: top;\n",
       "    }\n",
       "\n",
       "    .dataframe thead th {\n",
       "        text-align: right;\n",
       "    }\n",
       "</style>\n",
       "<table border=\"1\" class=\"dataframe\">\n",
       "  <thead>\n",
       "    <tr style=\"text-align: right;\">\n",
       "      <th></th>\n",
       "      <th>NYX</th>\n",
       "      <th>LOREAL</th>\n",
       "    </tr>\n",
       "  </thead>\n",
       "  <tbody>\n",
       "    <tr>\n",
       "      <td>NYX</td>\n",
       "      <td>127.580377</td>\n",
       "      <td>56.825026</td>\n",
       "    </tr>\n",
       "    <tr>\n",
       "      <td>LOREAL</td>\n",
       "      <td>56.825026</td>\n",
       "      <td>36.989114</td>\n",
       "    </tr>\n",
       "  </tbody>\n",
       "</table>\n",
       "</div>"
      ],
      "text/plain": [
       "               NYX     LOREAL\n",
       "NYX     127.580377  56.825026\n",
       "LOREAL   56.825026  36.989114"
      ]
     },
     "execution_count": 7,
     "metadata": {},
     "output_type": "execute_result"
    }
   ],
   "source": [
    "# Kovarijansa\n",
    "data_por.cov()"
   ]
  },
  {
   "cell_type": "code",
   "execution_count": 8,
   "metadata": {},
   "outputs": [
    {
     "data": {
      "text/html": [
       "<div>\n",
       "<style scoped>\n",
       "    .dataframe tbody tr th:only-of-type {\n",
       "        vertical-align: middle;\n",
       "    }\n",
       "\n",
       "    .dataframe tbody tr th {\n",
       "        vertical-align: top;\n",
       "    }\n",
       "\n",
       "    .dataframe thead th {\n",
       "        text-align: right;\n",
       "    }\n",
       "</style>\n",
       "<table border=\"1\" class=\"dataframe\">\n",
       "  <thead>\n",
       "    <tr style=\"text-align: right;\">\n",
       "      <th></th>\n",
       "      <th>serialNo</th>\n",
       "      <th>NYX</th>\n",
       "      <th>LOREAL</th>\n",
       "      <th>Quantity</th>\n",
       "      <th>ESSENCE</th>\n",
       "      <th>ANASTASIA</th>\n",
       "      <th>PROFUSION</th>\n",
       "      <th>Explore</th>\n",
       "      <th>Supplier</th>\n",
       "    </tr>\n",
       "  </thead>\n",
       "  <tbody>\n",
       "    <tr>\n",
       "      <td>0</td>\n",
       "      <td>1</td>\n",
       "      <td>337</td>\n",
       "      <td>118</td>\n",
       "      <td>4</td>\n",
       "      <td>4.5</td>\n",
       "      <td>4.5</td>\n",
       "      <td>9.65</td>\n",
       "      <td>1</td>\n",
       "      <td>0.92</td>\n",
       "    </tr>\n",
       "    <tr>\n",
       "      <td>1</td>\n",
       "      <td>2</td>\n",
       "      <td>324</td>\n",
       "      <td>107</td>\n",
       "      <td>4</td>\n",
       "      <td>4.0</td>\n",
       "      <td>4.5</td>\n",
       "      <td>8.87</td>\n",
       "      <td>1</td>\n",
       "      <td>0.76</td>\n",
       "    </tr>\n",
       "    <tr>\n",
       "      <td>2</td>\n",
       "      <td>3</td>\n",
       "      <td>316</td>\n",
       "      <td>104</td>\n",
       "      <td>3</td>\n",
       "      <td>3.0</td>\n",
       "      <td>3.5</td>\n",
       "      <td>8.00</td>\n",
       "      <td>1</td>\n",
       "      <td>0.72</td>\n",
       "    </tr>\n",
       "    <tr>\n",
       "      <td>3</td>\n",
       "      <td>4</td>\n",
       "      <td>322</td>\n",
       "      <td>110</td>\n",
       "      <td>3</td>\n",
       "      <td>3.5</td>\n",
       "      <td>2.5</td>\n",
       "      <td>8.67</td>\n",
       "      <td>1</td>\n",
       "      <td>0.80</td>\n",
       "    </tr>\n",
       "    <tr>\n",
       "      <td>4</td>\n",
       "      <td>5</td>\n",
       "      <td>314</td>\n",
       "      <td>103</td>\n",
       "      <td>2</td>\n",
       "      <td>2.0</td>\n",
       "      <td>3.0</td>\n",
       "      <td>8.21</td>\n",
       "      <td>0</td>\n",
       "      <td>0.65</td>\n",
       "    </tr>\n",
       "  </tbody>\n",
       "</table>\n",
       "</div>"
      ],
      "text/plain": [
       "   serialNo  NYX  LOREAL  Quantity  ESSENCE  ANASTASIA  PROFUSION  Explore  \\\n",
       "0         1  337     118         4      4.5        4.5       9.65        1   \n",
       "1         2  324     107         4      4.0        4.5       8.87        1   \n",
       "2         3  316     104         3      3.0        3.5       8.00        1   \n",
       "3         4  322     110         3      3.5        2.5       8.67        1   \n",
       "4         5  314     103         2      2.0        3.0       8.21        0   \n",
       "\n",
       "   Supplier  \n",
       "0      0.92  \n",
       "1      0.76  \n",
       "2      0.72  \n",
       "3      0.80  \n",
       "4      0.65  "
      ]
     },
     "execution_count": 8,
     "metadata": {},
     "output_type": "execute_result"
    }
   ],
   "source": [
    "import numpy as np\n",
    "import pandas as pd\n",
    "import matplotlib.pyplot as plt\n",
    "import statsmodels.formula.api as sm\n",
    "from scipy import stats\n",
    "from statsmodels.formula.api import ols\n",
    "\n",
    "df=pd.read_csv('makeup.csv')\n",
    "df.head()"
   ]
  },
  {
   "cell_type": "code",
   "execution_count": 53,
   "metadata": {},
   "outputs": [
    {
     "data": {
      "text/plain": [
       "<matplotlib.axes._subplots.AxesSubplot at 0x1d165a9bec8>"
      ]
     },
     "execution_count": 53,
     "metadata": {},
     "output_type": "execute_result"
    },
    {
     "data": {
      "image/png": "[encoded data removed]",
      "text/plain": [
       "<Figure size 748.8x514.8 with 1 Axes>"
      ]
     },
     "metadata": {
      "needs_background": "light"
     },
     "output_type": "display_data"
    }
   ],
   "source": [
    "import pandas as pd\n",
    "df=pd.read_csv('makeup.csv')\n",
    "df.plot(kind=\"scatter\",x=\"NYX\",y=\"Supplier\")"
   ]
  },
  {
   "cell_type": "markdown",
   "metadata": {},
   "source": [
    "### Višestruka regresija"
   ]
  },
  {
   "cell_type": "code",
   "execution_count": 54,
   "metadata": {},
   "outputs": [
    {
     "data": {
      "text/html": [
       "<div>\n",
       "<style scoped>\n",
       "    .dataframe tbody tr th:only-of-type {\n",
       "        vertical-align: middle;\n",
       "    }\n",
       "\n",
       "    .dataframe tbody tr th {\n",
       "        vertical-align: top;\n",
       "    }\n",
       "\n",
       "    .dataframe thead th {\n",
       "        text-align: right;\n",
       "    }\n",
       "</style>\n",
       "<table border=\"1\" class=\"dataframe\">\n",
       "  <thead>\n",
       "    <tr style=\"text-align: right;\">\n",
       "      <th></th>\n",
       "      <th>serialNo</th>\n",
       "      <th>NYX</th>\n",
       "      <th>LOREAL</th>\n",
       "      <th>Quantity</th>\n",
       "      <th>ESSENCE</th>\n",
       "      <th>ANASTASIA</th>\n",
       "      <th>PROFUSION</th>\n",
       "      <th>Explore</th>\n",
       "      <th>Supplier</th>\n",
       "    </tr>\n",
       "  </thead>\n",
       "  <tbody>\n",
       "    <tr>\n",
       "      <td>0</td>\n",
       "      <td>1</td>\n",
       "      <td>337</td>\n",
       "      <td>118</td>\n",
       "      <td>4</td>\n",
       "      <td>4.5</td>\n",
       "      <td>4.5</td>\n",
       "      <td>9.65</td>\n",
       "      <td>1</td>\n",
       "      <td>0.92</td>\n",
       "    </tr>\n",
       "    <tr>\n",
       "      <td>1</td>\n",
       "      <td>2</td>\n",
       "      <td>324</td>\n",
       "      <td>107</td>\n",
       "      <td>4</td>\n",
       "      <td>4.0</td>\n",
       "      <td>4.5</td>\n",
       "      <td>8.87</td>\n",
       "      <td>1</td>\n",
       "      <td>0.76</td>\n",
       "    </tr>\n",
       "    <tr>\n",
       "      <td>2</td>\n",
       "      <td>3</td>\n",
       "      <td>316</td>\n",
       "      <td>104</td>\n",
       "      <td>3</td>\n",
       "      <td>3.0</td>\n",
       "      <td>3.5</td>\n",
       "      <td>8.00</td>\n",
       "      <td>1</td>\n",
       "      <td>0.72</td>\n",
       "    </tr>\n",
       "    <tr>\n",
       "      <td>3</td>\n",
       "      <td>4</td>\n",
       "      <td>322</td>\n",
       "      <td>110</td>\n",
       "      <td>3</td>\n",
       "      <td>3.5</td>\n",
       "      <td>2.5</td>\n",
       "      <td>8.67</td>\n",
       "      <td>1</td>\n",
       "      <td>0.80</td>\n",
       "    </tr>\n",
       "    <tr>\n",
       "      <td>4</td>\n",
       "      <td>5</td>\n",
       "      <td>314</td>\n",
       "      <td>103</td>\n",
       "      <td>2</td>\n",
       "      <td>2.0</td>\n",
       "      <td>3.0</td>\n",
       "      <td>8.21</td>\n",
       "      <td>0</td>\n",
       "      <td>0.65</td>\n",
       "    </tr>\n",
       "  </tbody>\n",
       "</table>\n",
       "</div>"
      ],
      "text/plain": [
       "   serialNo  NYX  LOREAL  Quantity  ESSENCE  ANASTASIA  PROFUSION  Explore  \\\n",
       "0         1  337     118         4      4.5        4.5       9.65        1   \n",
       "1         2  324     107         4      4.0        4.5       8.87        1   \n",
       "2         3  316     104         3      3.0        3.5       8.00        1   \n",
       "3         4  322     110         3      3.5        2.5       8.67        1   \n",
       "4         5  314     103         2      2.0        3.0       8.21        0   \n",
       "\n",
       "   Supplier  \n",
       "0      0.92  \n",
       "1      0.76  \n",
       "2      0.72  \n",
       "3      0.80  \n",
       "4      0.65  "
      ]
     },
     "execution_count": 54,
     "metadata": {},
     "output_type": "execute_result"
    }
   ],
   "source": [
    "# više ulaznih promenljivih i 1 izlazna koja zavisi od više ulaznih\n",
    "import numpy as np\n",
    "import pandas as pd\n",
    "import matplotlib.pyplot as plt\n",
    "import statsmodels.formula.api as sm\n",
    "from scipy import stats\n",
    "from statsmodels.formula.api import ols\n",
    "\n",
    "df=pd.read_csv('makeup.csv')\n",
    "df.head()"
   ]
  },
  {
   "cell_type": "code",
   "execution_count": 55,
   "metadata": {},
   "outputs": [
    {
     "name": "stdout",
     "output_type": "stream",
     "text": [
      "                            OLS Regression Results                            \n",
      "==============================================================================\n",
      "Dep. Variable:                    NYX   R-squared:                       0.657\n",
      "Model:                            OLS   Adj. R-squared:                  0.656\n",
      "Method:                 Least Squares   F-statistic:                     952.5\n",
      "Date:                Fri, 27 Dec 2019   Prob (F-statistic):          1.09e-117\n",
      "Time:                        18:32:41   Log-Likelihood:                -1653.9\n",
      "No. Observations:                 500   AIC:                             3312.\n",
      "Df Residuals:                     498   BIC:                             3320.\n",
      "Df Model:                           1                                         \n",
      "Covariance Type:            nonrobust                                         \n",
      "==============================================================================\n",
      "                 coef    std err          t      P>|t|      [0.025      0.975]\n",
      "------------------------------------------------------------------------------\n",
      "Intercept    269.6668      1.545    174.514      0.000     266.631     272.703\n",
      "Supplier      64.8505      2.101     30.862      0.000      60.722      68.979\n",
      "==============================================================================\n",
      "Omnibus:                        3.585   Durbin-Watson:                   1.302\n",
      "Prob(Omnibus):                  0.167   Jarque-Bera (JB):                3.888\n",
      "Skew:                           0.087   Prob(JB):                        0.143\n",
      "Kurtosis:                       3.395   Cond. No.                         10.8\n",
      "==============================================================================\n",
      "\n",
      "Warnings:\n",
      "[1] Standard Errors assume that the covariance matrix of the errors is correctly specified.\n"
     ]
    }
   ],
   "source": [
    "model1 = ols(\"NYX ~ Supplier\", df).fit()\n",
    "print(model1.summary())"
   ]
  },
  {
   "cell_type": "code",
   "execution_count": 56,
   "metadata": {},
   "outputs": [
    {
     "name": "stdout",
     "output_type": "stream",
     "text": [
      "                            OLS Regression Results                            \n",
      "==============================================================================\n",
      "Dep. Variable:               Supplier   R-squared:                       0.704\n",
      "Model:                            OLS   Adj. R-squared:                  0.702\n",
      "Method:                 Least Squares   F-statistic:                     392.7\n",
      "Date:                Fri, 27 Dec 2019   Prob (F-statistic):          1.42e-130\n",
      "Time:                        18:32:42   Log-Likelihood:                 574.16\n",
      "No. Observations:                 500   AIC:                            -1140.\n",
      "Df Residuals:                     496   BIC:                            -1123.\n",
      "Df Model:                           3                                         \n",
      "Covariance Type:            nonrobust                                         \n",
      "==============================================================================\n",
      "                 coef    std err          t      P>|t|      [0.025      0.975]\n",
      "------------------------------------------------------------------------------\n",
      "Intercept     -2.1968      1.618     -1.358      0.175      -5.376       0.982\n",
      "NYX            0.0062      0.005      1.213      0.226      -0.004       0.016\n",
      "LOREAL         0.0091      0.015      0.599      0.549      -0.021       0.039\n",
      "NYX:LOREAL -4.885e-07   4.76e-05     -0.010      0.992    -9.4e-05    9.31e-05\n",
      "==============================================================================\n",
      "Omnibus:                       74.800   Durbin-Watson:                   0.859\n",
      "Prob(Omnibus):                  0.000   Jarque-Bera (JB):              122.685\n",
      "Skew:                          -0.926   Prob(JB):                     2.29e-27\n",
      "Kurtosis:                       4.569   Cond. No.                     1.60e+07\n",
      "==============================================================================\n",
      "\n",
      "Warnings:\n",
      "[1] Standard Errors assume that the covariance matrix of the errors is correctly specified.\n",
      "[2] The condition number is large, 1.6e+07. This might indicate that there are\n",
      "strong multicollinearity or other numerical problems.\n"
     ]
    }
   ],
   "source": [
    "model3 = ols(\"Supplier ~ NYX * LOREAL\", df).fit()\n",
    "print(model3.summary())"
   ]
  },
  {
   "cell_type": "code",
   "execution_count": 57,
   "metadata": {},
   "outputs": [
    {
     "name": "stdout",
     "output_type": "stream",
     "text": [
      "                            OLS Regression Results                            \n",
      "==============================================================================\n",
      "Dep. Variable:                 LOREAL   R-squared:                       0.628\n",
      "Model:                            OLS   Adj. R-squared:                  0.627\n",
      "Method:                 Least Squares   F-statistic:                     839.4\n",
      "Date:                Fri, 27 Dec 2019   Prob (F-statistic):          6.73e-109\n",
      "Time:                        18:32:43   Log-Likelihood:                -1364.7\n",
      "No. Observations:                 500   AIC:                             2733.\n",
      "Df Residuals:                     498   BIC:                             2742.\n",
      "Df Model:                           1                                         \n",
      "Covariance Type:            nonrobust                                         \n",
      "==============================================================================\n",
      "                 coef    std err          t      P>|t|      [0.025      0.975]\n",
      "------------------------------------------------------------------------------\n",
      "Intercept     82.5534      0.867     95.271      0.000      80.851      84.256\n",
      "Supplier      34.1378      1.178     28.972      0.000      31.823      36.453\n",
      "==============================================================================\n",
      "Omnibus:                        0.991   Durbin-Watson:                   1.264\n",
      "Prob(Omnibus):                  0.609   Jarque-Bera (JB):                0.922\n",
      "Skew:                           0.105   Prob(JB):                        0.631\n",
      "Kurtosis:                       3.015   Cond. No.                         10.8\n",
      "==============================================================================\n",
      "\n",
      "Warnings:\n",
      "[1] Standard Errors assume that the covariance matrix of the errors is correctly specified.\n"
     ]
    }
   ],
   "source": [
    "model4 = ols(\"LOREAL ~ Supplier\", df).fit()\n",
    "print(model4.summary())"
   ]
  },
  {
   "cell_type": "markdown",
   "metadata": {},
   "source": [
    "### Nelinearna regresija"
   ]
  },
  {
   "cell_type": "code",
   "execution_count": 58,
   "metadata": {},
   "outputs": [
    {
     "data": {
      "image/png": "[encoded data removed]",
      "text/plain": [
       "<Figure size 748.8x514.8 with 1 Axes>"
      ]
     },
     "metadata": {
      "needs_background": "light"
     },
     "output_type": "display_data"
    }
   ],
   "source": [
    "import numpy as np\n",
    "import pandas as pd\n",
    "import matplotlib.pyplot as plt\n",
    "import statsmodels.formula.api as sm\n",
    "from scipy import stats\n",
    "\n",
    "\n",
    "# Ucitavanje podataka:\n",
    "df=pd.read_csv('makeup.csv')\n",
    "\n",
    "# plotovanje\n",
    "df.plot('NYX', 'LOREAL', style='o')\n",
    "\n",
    "plt.xlim([50,500])\n",
    "plt.ylim([50,500])\n",
    "plt.show()\n"
   ]
  },
  {
   "cell_type": "code",
   "execution_count": 59,
   "metadata": {},
   "outputs": [
    {
     "data": {
      "image/png": "[encoded data removed]",
      "text/plain": [
       "<Figure size 748.8x514.8 with 1 Axes>"
      ]
     },
     "metadata": {
      "needs_background": "light"
     },
     "output_type": "display_data"
    }
   ],
   "source": [
    "Rez1= sm.ols('NYX ~ LOREAL', df).fit()\n",
    "Rez2 = sm.ols('NYX ~ LOREAL', df[:-2]).fit()  # iskljucujemo poslednju tacku koja deluje kao \"outlier\"\n",
    "df.plot('LOREAL', 'NYX', style='o')\n",
    "plt.plot(df.LOREAL, Rez1.fittedvalues)\n",
    "plt.plot(df.LOREAL[:-2], Rez2.fittedvalues)\n",
    "plt.xlim([95,120])\n",
    "plt.ylim([290,340])\n",
    "plt.show()"
   ]
  },
  {
   "cell_type": "code",
   "execution_count": 60,
   "metadata": {},
   "outputs": [
    {
     "name": "stdout",
     "output_type": "stream",
     "text": [
      "                            OLS Regression Results                            \n",
      "==============================================================================\n",
      "Dep. Variable:                    NYX   R-squared:                       0.684\n",
      "Model:                            OLS   Adj. R-squared:                  0.684\n",
      "Method:                 Least Squares   F-statistic:                     1079.\n",
      "Date:                Fri, 27 Dec 2019   Prob (F-statistic):          9.29e-127\n",
      "Time:                        18:32:48   Log-Likelihood:                -1632.9\n",
      "No. Observations:                 500   AIC:                             3270.\n",
      "Df Residuals:                     498   BIC:                             3278.\n",
      "Df Model:                           1                                         \n",
      "Covariance Type:            nonrobust                                         \n",
      "==============================================================================\n",
      "                 coef    std err          t      P>|t|      [0.025      0.975]\n",
      "------------------------------------------------------------------------------\n",
      "Intercept    151.7968      5.021     30.234      0.000     141.932     161.661\n",
      "LOREAL         1.5363      0.047     32.852      0.000       1.444       1.628\n",
      "==============================================================================\n",
      "Omnibus:                        2.710   Durbin-Watson:                   1.483\n",
      "Prob(Omnibus):                  0.258   Jarque-Bera (JB):                2.852\n",
      "Skew:                          -0.048   Prob(JB):                        0.240\n",
      "Kurtosis:                       3.357   Cond. No.                     1.90e+03\n",
      "==============================================================================\n",
      "\n",
      "Warnings:\n",
      "[1] Standard Errors assume that the covariance matrix of the errors is correctly specified.\n",
      "[2] The condition number is large, 1.9e+03. This might indicate that there are\n",
      "strong multicollinearity or other numerical problems.\n",
      "                            OLS Regression Results                            \n",
      "==============================================================================\n",
      "Dep. Variable:                    NYX   R-squared:                       0.684\n",
      "Model:                            OLS   Adj. R-squared:                  0.683\n",
      "Method:                 Least Squares   F-statistic:                     1072.\n",
      "Date:                Fri, 27 Dec 2019   Prob (F-statistic):          4.54e-126\n",
      "Time:                        18:32:48   Log-Likelihood:                -1627.3\n",
      "No. Observations:                 498   AIC:                             3259.\n",
      "Df Residuals:                     496   BIC:                             3267.\n",
      "Df Model:                           1                                         \n",
      "Covariance Type:            nonrobust                                         \n",
      "==============================================================================\n",
      "                 coef    std err          t      P>|t|      [0.025      0.975]\n",
      "------------------------------------------------------------------------------\n",
      "Intercept    151.7960      5.037     30.137      0.000     141.900     161.692\n",
      "LOREAL         1.5362      0.047     32.744      0.000       1.444       1.628\n",
      "==============================================================================\n",
      "Omnibus:                        2.550   Durbin-Watson:                   1.480\n",
      "Prob(Omnibus):                  0.279   Jarque-Bera (JB):                2.646\n",
      "Skew:                          -0.045   Prob(JB):                        0.266\n",
      "Kurtosis:                       3.346   Cond. No.                     1.90e+03\n",
      "==============================================================================\n",
      "\n",
      "Warnings:\n",
      "[1] Standard Errors assume that the covariance matrix of the errors is correctly specified.\n",
      "[2] The condition number is large, 1.9e+03. This might indicate that there are\n",
      "strong multicollinearity or other numerical problems.\n"
     ]
    }
   ],
   "source": [
    "# Rezime regresije:\n",
    "print(Rez1.summary())\n",
    "print(Rez2.summary())"
   ]
  },
  {
   "cell_type": "code",
   "execution_count": 61,
   "metadata": {},
   "outputs": [
    {
     "data": {
      "text/plain": [
       "(500, 1)"
      ]
     },
     "execution_count": 61,
     "metadata": {},
     "output_type": "execute_result"
    }
   ],
   "source": [
    "# Estimacija srednje vrednosti iz uzorka\n",
    "import pandas as pd\n",
    "import matplotlib.pyplot as plt\n",
    "import numpy as np\n",
    "\n",
    "atributi = ['NYX'] # uzimamo NYX\n",
    "df = pd.read_csv(\"makeup.csv\",usecols=atributi)\n",
    "df.head()\n",
    "df.shape"
   ]
  },
  {
   "cell_type": "code",
   "execution_count": 62,
   "metadata": {},
   "outputs": [
    {
     "name": "stderr",
     "output_type": "stream",
     "text": [
      "D:\\ProgramData\\Anaconda3\\lib\\site-packages\\pandas\\plotting\\_matplotlib\\hist.py:412: MatplotlibDeprecationWarning: \n",
      "The 'normed' kwarg was deprecated in Matplotlib 2.1 and will be removed in 3.1. Use 'density' instead.\n",
      "  ax.hist(data[col].dropna().values, bins=bins, **kwds)\n"
     ]
    },
    {
     "data": {
      "image/png": "[encoded data removed]",
      "text/plain": [
       "<Figure size 748.8x514.8 with 1 Axes>"
      ]
     },
     "metadata": {
      "needs_background": "light"
     },
     "output_type": "display_data"
    }
   ],
   "source": [
    "#histogram\n",
    "hist = df.hist(normed=True,bins=100) \n",
    "plt.show()"
   ]
  },
  {
   "cell_type": "code",
   "execution_count": 63,
   "metadata": {},
   "outputs": [
    {
     "data": {
      "text/html": [
       "<div>\n",
       "<style scoped>\n",
       "    .dataframe tbody tr th:only-of-type {\n",
       "        vertical-align: middle;\n",
       "    }\n",
       "\n",
       "    .dataframe tbody tr th {\n",
       "        vertical-align: top;\n",
       "    }\n",
       "\n",
       "    .dataframe thead th {\n",
       "        text-align: right;\n",
       "    }\n",
       "</style>\n",
       "<table border=\"1\" class=\"dataframe\">\n",
       "  <thead>\n",
       "    <tr style=\"text-align: right;\">\n",
       "      <th></th>\n",
       "      <th>NYX</th>\n",
       "    </tr>\n",
       "  </thead>\n",
       "  <tbody>\n",
       "    <tr>\n",
       "      <td>count</td>\n",
       "      <td>500.000000</td>\n",
       "    </tr>\n",
       "    <tr>\n",
       "      <td>mean</td>\n",
       "      <td>316.472000</td>\n",
       "    </tr>\n",
       "    <tr>\n",
       "      <td>std</td>\n",
       "      <td>11.295148</td>\n",
       "    </tr>\n",
       "    <tr>\n",
       "      <td>min</td>\n",
       "      <td>290.000000</td>\n",
       "    </tr>\n",
       "    <tr>\n",
       "      <td>25%</td>\n",
       "      <td>308.000000</td>\n",
       "    </tr>\n",
       "    <tr>\n",
       "      <td>50%</td>\n",
       "      <td>317.000000</td>\n",
       "    </tr>\n",
       "    <tr>\n",
       "      <td>75%</td>\n",
       "      <td>325.000000</td>\n",
       "    </tr>\n",
       "    <tr>\n",
       "      <td>max</td>\n",
       "      <td>340.000000</td>\n",
       "    </tr>\n",
       "  </tbody>\n",
       "</table>\n",
       "</div>"
      ],
      "text/plain": [
       "              NYX\n",
       "count  500.000000\n",
       "mean   316.472000\n",
       "std     11.295148\n",
       "min    290.000000\n",
       "25%    308.000000\n",
       "50%    317.000000\n",
       "75%    325.000000\n",
       "max    340.000000"
      ]
     },
     "execution_count": 63,
     "metadata": {},
     "output_type": "execute_result"
    }
   ],
   "source": [
    "df.describe() # ovom naredbom pandas automatski izracuna karakteristicne velicine "
   ]
  },
  {
   "cell_type": "code",
   "execution_count": 64,
   "metadata": {},
   "outputs": [
    {
     "data": {
      "text/plain": [
       "312.0"
      ]
     },
     "execution_count": 64,
     "metadata": {},
     "output_type": "execute_result"
    }
   ],
   "source": [
    "uzorak=df.sample(10)\n",
    "uzorak.values.mean()"
   ]
  },
  {
   "cell_type": "code",
   "execution_count": 65,
   "metadata": {},
   "outputs": [
    {
     "data": {
      "image/png": "[encoded data removed]",
      "text/plain": [
       "<Figure size 748.8x514.8 with 1 Axes>"
      ]
     },
     "metadata": {
      "needs_background": "light"
     },
     "output_type": "display_data"
    },
    {
     "data": {
      "image/png": "[encoded data removed]",
      "text/plain": [
       "<Figure size 748.8x514.8 with 1 Axes>"
      ]
     },
     "metadata": {
      "needs_background": "light"
     },
     "output_type": "display_data"
    }
   ],
   "source": [
    "# estimiramo srednju vrednost uzimajući samo manji uzorak iz celog:\n",
    "estimatori_srednje_vrednosti = []       \n",
    "broj_uz_as=50\n",
    "velicina_uzorka=100\n",
    "broj_estimacija_srednjih_vrednosti=20   # ovo je broj estimacija, svaki je baziran na uzorku veličine 'velicina_uzorka'\n",
    "for x in range(velicina_uzorka):         # Generišemo 20 uzorak\n",
    "    \n",
    "    uzorak=df.sample(velicina_uzorka)\n",
    "    estimatori_srednje_vrednosti.append( uzorak.values.mean() )\n",
    "    \n",
    "    # ili:\n",
    "    #uzorak = np.random.choice(a= df.values, size=velicina_uzorka)\n",
    "    #estimatori_srednje_vrednosti.append( uzorak.mean() )\n",
    "    \n",
    "# plotujemo estimaciju gustine verovatnoće raspodele srednjih vrednosti (pomoću histograma) - vidimo da je približno normalna!  \n",
    "pd.DataFrame(estimatori_srednje_vrednosti).plot(kind=\"density\")   \n",
    "\n",
    "# histogram srednjih vrednosti:\n",
    "hist = pd.DataFrame(estimatori_srednje_vrednosti).hist(normed=True,bins=30) \n",
    "plt.show()"
   ]
  },
  {
   "cell_type": "markdown",
   "metadata": {},
   "source": [
    "### Intervali poverenja"
   ]
  },
  {
   "cell_type": "code",
   "execution_count": 66,
   "metadata": {},
   "outputs": [
    {
     "name": "stdout",
     "output_type": "stream",
     "text": [
      "315.8\n",
      "(313.58619159901485, 318.01380840098517)\n"
     ]
    }
   ],
   "source": [
    "# interval poverenja za ocenu srednje vrednosti:\n",
    "\n",
    "std=df.std()['NYX']\n",
    "alpha=0.05   # nivo poverenja je 1-alpha=0.95\n",
    "\n",
    "print(estimatori_srednje_vrednosti[0])  # štampamo estimranu vrednost\n",
    "\n",
    "#SVOĐENJE NA Z-RASPODELU (N(0,1))\n",
    "red_kvantila=1-alpha/2\n",
    "Kvantil = stats.norm.ppf(red_kvantila)  # Kvantil odgovarajućeg reda Z raspodele (normalna (0,1) raspodela)\n",
    "                  \n",
    "margina = Kvantil * (std/velicina_uzorka**0.5)\n",
    "\n",
    "interval_poverenja = (estimatori_srednje_vrednosti[0] - margina, estimatori_srednje_vrednosti[0] + margina)  \n",
    "print(interval_poverenja)"
   ]
  },
  {
   "cell_type": "code",
   "execution_count": 67,
   "metadata": {},
   "outputs": [
    {
     "data": {
      "image/png": "[encoded data removed]",
      "text/plain": [
       "<Figure size 648x648 with 1 Axes>"
      ]
     },
     "metadata": {
      "needs_background": "light"
     },
     "output_type": "display_data"
    }
   ],
   "source": [
    "# crtanje svih intervala poverenja:\n",
    "\n",
    "intervali_poverenja=[]\n",
    "for i in range(0,50):\n",
    "    intervali_poverenja.append((estimatori_srednje_vrednosti[i] - margina, estimatori_srednje_vrednosti[i] + margina))\n",
    "    \n",
    "# crtanje intervala poverenja:\n",
    "\n",
    "plt.figure(figsize=(9,9))\n",
    "\n",
    "# crtamo intervale pomoću plt.errorbar:\n",
    "plt.errorbar(x=np.arange(0, 50), \n",
    "             y=estimatori_srednje_vrednosti[0:50], \n",
    "             yerr=[(gornja-donja)/2 for gornja,donja in intervali_poverenja],\n",
    "             fmt='o')\n",
    "\n",
    "\n",
    "plt.hlines(xmin=0, xmax=broj_uz_as,\n",
    "           y=df.mean()['NYX'], \n",
    "           linewidth=2.0,\n",
    "           color=\"red\")\n",
    "\n",
    "plt.show()"
   ]
  },
  {
   "cell_type": "code",
   "execution_count": 68,
   "metadata": {},
   "outputs": [
    {
     "data": {
      "image/png": "[encoded data removed]",
      "text/plain": [
       "<Figure size 748.8x514.8 with 1 Axes>"
      ]
     },
     "metadata": {
      "needs_background": "light"
     },
     "output_type": "display_data"
    },
    {
     "data": {
      "image/png": "[encoded data removed]",
      "text/plain": [
       "<Figure size 748.8x514.8 with 1 Axes>"
      ]
     },
     "metadata": {
      "needs_background": "light"
     },
     "output_type": "display_data"
    }
   ],
   "source": [
    "# hoćemo da estimiramo varijansu uzimajući samo manji uzorak iz celog:\n",
    "estimatori_varijanse = []       \n",
    "broj_uz_as=50\n",
    "velicina_uzorka=100\n",
    "broj_estimacija_varijansi=20   # ovo je broj estimacija, svaki je baziran na uzorku velicine 'velicina_uzorka'\n",
    "for x in range(broj_estimacija_varijansi):         # Generišemo 200 uzoraka\n",
    "    \n",
    "    uzorak=df.sample(velicina_uzorka)\n",
    "    estimatori_varijanse.append( uzorak.var()['NYX'] )\n",
    "    \n",
    "    # ili:\n",
    "    #uzorak = np.random.choice(a= df.values, size=velicina_uzorka)\n",
    "    #estimatori_varijanse.append( uzorak.var(ddof=1) )\n",
    "    \n",
    "# plotujemo estimaciju gustine verovatnoće raspodele ocena varijansi (pomocu histograma) - vidimo da je približno normalna!  \n",
    "pd.DataFrame(estimatori_varijanse).plot(kind=\"density\")   \n",
    "\n",
    "# histogram ocena varijansi:\n",
    "hist = pd.DataFrame(estimatori_varijanse).hist(normed=True,bins=20) \n",
    "plt.show()"
   ]
  },
  {
   "cell_type": "code",
   "execution_count": 69,
   "metadata": {},
   "outputs": [
    {
     "name": "stdout",
     "output_type": "stream",
     "text": [
      "101.92676767676768\n",
      "(78.57493959220042, 137.54909243006105)\n"
     ]
    }
   ],
   "source": [
    "# intervali poverenja:\n",
    "\n",
    "alpha=0.05   # nivo poverenja je 1-alpha=0.95\n",
    "\n",
    "print(estimatori_varijanse[0])  # štampamo estimiranu vrednost\n",
    "\n",
    "\n",
    "Kvantil1 = stats.chi2.ppf(1-alpha/2, df=velicina_uzorka-1)  # Kvantil odgovarajućeg reda hi kvadrat raspodele sa n-1 stepeni slobode\n",
    "Kvantil2 = stats.chi2.ppf(alpha/2, df=velicina_uzorka-1)  # Kvantil odgovarajućeg reda hi kvadrat raspodele sa n-1 stepeni slobode\n",
    "   \n",
    "\n",
    "interval_poverenja = ((velicina_uzorka-1)*estimatori_varijanse[0]/Kvantil1, (velicina_uzorka-1)*estimatori_varijanse[0]/Kvantil2)  \n",
    "print(interval_poverenja)\n"
   ]
  },
  {
   "cell_type": "code",
   "execution_count": 70,
   "metadata": {},
   "outputs": [
    {
     "data": {
      "image/png": "[encoded data removed]",
      "text/plain": [
       "<Figure size 648x648 with 1 Axes>"
      ]
     },
     "metadata": {
      "needs_background": "light"
     },
     "output_type": "display_data"
    }
   ],
   "source": [
    "#crtanje svih intervala poverenja\n",
    "intervali_poverenja=[]\n",
    "for i in range(0,broj_estimacija_varijansi):\n",
    "    intervali_poverenja.append(((velicina_uzorka-1)*estimatori_varijanse[i]/Kvantil1, (velicina_uzorka-1)*estimatori_varijanse[i]/Kvantil2))\n",
    "    \n",
    "# crtanje intervala poverenja:\n",
    "\n",
    "plt.figure(figsize=(9,9))\n",
    "\n",
    "# crtamo intervale pomoću plt.errorbar:\n",
    "plt.errorbar(x=np.arange(0, broj_estimacija_varijansi), \n",
    "             y=estimatori_varijanse[0:broj_estimacija_varijansi], \n",
    "             yerr=np.stack((estimatori_varijanse-np.array(intervali_poverenja)[:,0], np.array(intervali_poverenja)[:,1]-estimatori_varijanse)),\n",
    "             fmt='o')\n",
    "\n",
    "plt.hlines(xmin=0, xmax=broj_estimacija_varijansi,\n",
    "           y=df.var()['NYX'], \n",
    "           linewidth=2.0,\n",
    "           color=\"red\")\n",
    "\n",
    "plt.show()"
   ]
  },
  {
   "cell_type": "markdown",
   "metadata": {},
   "source": [
    "### Veza izmedju NYX-a i LOREAL-a"
   ]
  },
  {
   "cell_type": "code",
   "execution_count": 9,
   "metadata": {},
   "outputs": [
    {
     "data": {
      "text/html": [
       "<div>\n",
       "<style scoped>\n",
       "    .dataframe tbody tr th:only-of-type {\n",
       "        vertical-align: middle;\n",
       "    }\n",
       "\n",
       "    .dataframe tbody tr th {\n",
       "        vertical-align: top;\n",
       "    }\n",
       "\n",
       "    .dataframe thead th {\n",
       "        text-align: right;\n",
       "    }\n",
       "</style>\n",
       "<table border=\"1\" class=\"dataframe\">\n",
       "  <thead>\n",
       "    <tr style=\"text-align: right;\">\n",
       "      <th></th>\n",
       "      <th>NYX</th>\n",
       "      <th>LOREAL</th>\n",
       "    </tr>\n",
       "  </thead>\n",
       "  <tbody>\n",
       "    <tr>\n",
       "      <td>0</td>\n",
       "      <td>337</td>\n",
       "      <td>118</td>\n",
       "    </tr>\n",
       "    <tr>\n",
       "      <td>1</td>\n",
       "      <td>324</td>\n",
       "      <td>107</td>\n",
       "    </tr>\n",
       "    <tr>\n",
       "      <td>2</td>\n",
       "      <td>316</td>\n",
       "      <td>104</td>\n",
       "    </tr>\n",
       "    <tr>\n",
       "      <td>3</td>\n",
       "      <td>322</td>\n",
       "      <td>110</td>\n",
       "    </tr>\n",
       "    <tr>\n",
       "      <td>4</td>\n",
       "      <td>314</td>\n",
       "      <td>103</td>\n",
       "    </tr>\n",
       "  </tbody>\n",
       "</table>\n",
       "</div>"
      ],
      "text/plain": [
       "   NYX  LOREAL\n",
       "0  337     118\n",
       "1  324     107\n",
       "2  316     104\n",
       "3  322     110\n",
       "4  314     103"
      ]
     },
     "execution_count": 9,
     "metadata": {},
     "output_type": "execute_result"
    }
   ],
   "source": [
    "# Pre regresije naci koeficijent korelacije za NYX i LOREAL\n",
    "plt.style.use('seaborn-talk')\n",
    "atributi = ['NYX', 'LOREAL']\n",
    "data_por = pd.read_csv(\"makeup.csv\",usecols=atributi)\n",
    "data_por.head()"
   ]
  },
  {
   "cell_type": "code",
   "execution_count": 10,
   "metadata": {},
   "outputs": [
    {
     "data": {
      "text/html": [
       "<div>\n",
       "<style scoped>\n",
       "    .dataframe tbody tr th:only-of-type {\n",
       "        vertical-align: middle;\n",
       "    }\n",
       "\n",
       "    .dataframe tbody tr th {\n",
       "        vertical-align: top;\n",
       "    }\n",
       "\n",
       "    .dataframe thead th {\n",
       "        text-align: right;\n",
       "    }\n",
       "</style>\n",
       "<table border=\"1\" class=\"dataframe\">\n",
       "  <thead>\n",
       "    <tr style=\"text-align: right;\">\n",
       "      <th></th>\n",
       "      <th>NYX</th>\n",
       "      <th>LOREAL</th>\n",
       "    </tr>\n",
       "  </thead>\n",
       "  <tbody>\n",
       "    <tr>\n",
       "      <td>NYX</td>\n",
       "      <td>1.0000</td>\n",
       "      <td>0.8272</td>\n",
       "    </tr>\n",
       "    <tr>\n",
       "      <td>LOREAL</td>\n",
       "      <td>0.8272</td>\n",
       "      <td>1.0000</td>\n",
       "    </tr>\n",
       "  </tbody>\n",
       "</table>\n",
       "</div>"
      ],
      "text/plain": [
       "           NYX  LOREAL\n",
       "NYX     1.0000  0.8272\n",
       "LOREAL  0.8272  1.0000"
      ]
     },
     "execution_count": 10,
     "metadata": {},
     "output_type": "execute_result"
    }
   ],
   "source": [
    "data_por.corr()"
   ]
  },
  {
   "cell_type": "code",
   "execution_count": 12,
   "metadata": {},
   "outputs": [
    {
     "data": {
      "image/png": "[encoded data removed]",
      "text/plain": [
       "<Figure size 748.8x514.8 with 1 Axes>"
      ]
     },
     "metadata": {
      "needs_background": "light"
     },
     "output_type": "display_data"
    }
   ],
   "source": [
    "import numpy as np\n",
    "import pandas as pd\n",
    "import matplotlib.pyplot as plt\n",
    "import statsmodels.formula.api as sm\n",
    "from scipy import stats\n",
    "\n",
    "\n",
    "# Ućitavanje podataka:\n",
    "df=pd.read_csv('makeup.csv')\n",
    "\n",
    "# plotovanje\n",
    "df.plot('NYX', 'LOREAL', style='o')\n",
    "\n",
    "plt.xlim([50,500])\n",
    "plt.ylim([50,500])\n",
    "plt.show()"
   ]
  },
  {
   "cell_type": "code",
   "execution_count": 16,
   "metadata": {},
   "outputs": [
    {
     "data": {
      "image/png": "[encoded data removed]",
      "text/plain": [
       "<Figure size 748.8x514.8 with 1 Axes>"
      ]
     },
     "metadata": {
      "needs_background": "light"
     },
     "output_type": "display_data"
    }
   ],
   "source": [
    "Rez1= sm.ols('NYX ~ LOREAL', df).fit()\n",
    "Rez2 = sm.ols('NYX ~ LOREAL', df[:-1]).fit()  # isključujemo poslednju tačku koja deluje kao \"outlier\"\n",
    "df.plot('NYX', 'LOREAL', style='o')\n",
    "plt.plot(df.NYX, Rez1.fittedvalues)\n",
    "plt.plot(df.NYX[:-1], Rez2.fittedvalues)\n",
    "plt.xlim([50,500])\n",
    "plt.ylim([50,500])\n",
    "plt.show()"
   ]
  },
  {
   "cell_type": "code",
   "execution_count": 17,
   "metadata": {},
   "outputs": [
    {
     "name": "stdout",
     "output_type": "stream",
     "text": [
      "                            OLS Regression Results                            \n",
      "==============================================================================\n",
      "Dep. Variable:                    NYX   R-squared:                       0.684\n",
      "Model:                            OLS   Adj. R-squared:                  0.684\n",
      "Method:                 Least Squares   F-statistic:                     1079.\n",
      "Date:                Thu, 16 Jan 2020   Prob (F-statistic):          9.29e-127\n",
      "Time:                        13:38:36   Log-Likelihood:                -1632.9\n",
      "No. Observations:                 500   AIC:                             3270.\n",
      "Df Residuals:                     498   BIC:                             3278.\n",
      "Df Model:                           1                                         \n",
      "Covariance Type:            nonrobust                                         \n",
      "==============================================================================\n",
      "                 coef    std err          t      P>|t|      [0.025      0.975]\n",
      "------------------------------------------------------------------------------\n",
      "Intercept    151.7968      5.021     30.234      0.000     141.932     161.661\n",
      "LOREAL         1.5363      0.047     32.852      0.000       1.444       1.628\n",
      "==============================================================================\n",
      "Omnibus:                        2.710   Durbin-Watson:                   1.483\n",
      "Prob(Omnibus):                  0.258   Jarque-Bera (JB):                2.852\n",
      "Skew:                          -0.048   Prob(JB):                        0.240\n",
      "Kurtosis:                       3.357   Cond. No.                     1.90e+03\n",
      "==============================================================================\n",
      "\n",
      "Warnings:\n",
      "[1] Standard Errors assume that the covariance matrix of the errors is correctly specified.\n",
      "[2] The condition number is large, 1.9e+03. This might indicate that there are\n",
      "strong multicollinearity or other numerical problems.\n",
      "                            OLS Regression Results                            \n",
      "==============================================================================\n",
      "Dep. Variable:                    NYX   R-squared:                       0.684\n",
      "Model:                            OLS   Adj. R-squared:                  0.683\n",
      "Method:                 Least Squares   F-statistic:                     1075.\n",
      "Date:                Thu, 16 Jan 2020   Prob (F-statistic):          2.47e-126\n",
      "Time:                        13:38:36   Log-Likelihood:                -1630.1\n",
      "No. Observations:                 499   AIC:                             3264.\n",
      "Df Residuals:                     497   BIC:                             3273.\n",
      "Df Model:                           1                                         \n",
      "Covariance Type:            nonrobust                                         \n",
      "==============================================================================\n",
      "                 coef    std err          t      P>|t|      [0.025      0.975]\n",
      "------------------------------------------------------------------------------\n",
      "Intercept    151.8480      5.029     30.192      0.000     141.966     161.730\n",
      "LOREAL         1.5358      0.047     32.780      0.000       1.444       1.628\n",
      "==============================================================================\n",
      "Omnibus:                        2.625   Durbin-Watson:                   1.483\n",
      "Prob(Omnibus):                  0.269   Jarque-Bera (JB):                2.741\n",
      "Skew:                          -0.047   Prob(JB):                        0.254\n",
      "Kurtosis:                       3.351   Cond. No.                     1.90e+03\n",
      "==============================================================================\n",
      "\n",
      "Warnings:\n",
      "[1] Standard Errors assume that the covariance matrix of the errors is correctly specified.\n",
      "[2] The condition number is large, 1.9e+03. This might indicate that there are\n",
      "strong multicollinearity or other numerical problems.\n"
     ]
    }
   ],
   "source": [
    "# Rezime regresije:\n",
    "print(Rez1.summary())\n",
    "print(Rez2.summary())"
   ]
  },
  {
   "cell_type": "code",
   "execution_count": null,
   "metadata": {},
   "outputs": [],
   "source": []
  }
 ],
 "metadata": {
  "kernelspec": {
   "display_name": "Python 3",
   "language": "python",
   "name": "python3"
  },
  "language_info": {
   "codemirror_mode": {
    "name": "ipython",
    "version": 3
   },
   "file_extension": ".py",
   "mimetype": "text/x-python",
   "name": "python",
   "nbconvert_exporter": "python",
   "pygments_lexer": "ipython3",
   "version": "3.7.4"
  }
 },
 "nbformat": 4,
 "nbformat_minor": 2
}
